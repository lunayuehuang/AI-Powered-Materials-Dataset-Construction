{
 "cells": [
  {
   "cell_type": "code",
   "execution_count": null,
   "id": "c0e3b910",
   "metadata": {},
   "outputs": [],
   "source": [
    "import sys\n",
    "import os\n",
    "sys.path.append(os.path.abspath('../aipowerdatasetconstruction/'))\n",
    "\n",
    "from image_util import labeledImage\n",
    "from azureapi import AzureCVObjectDetectionAPI\n",
    "from sklearn.model_selection import train_test_split"
   ]
  },
  {
   "cell_type": "code",
   "execution_count": null,
   "id": "1f0bed6a",
   "metadata": {},
   "outputs": [],
   "source": [
    "molecules_dir = './elsevier_images/train/image/'\n",
    "labels = ['molecule', 'microscopic_image', 'diagram']\n",
    "labels_dir = ['./elsevier_images/train/' + l + '_labels' for l in labels]\n",
    "\n",
    "labeled_images = []\n",
    "\n",
    "for file in os.listdir(molecules_dir):\n",
    "    if file.endswith(\".jpeg\"):\n",
    "        image_path = os.path.join(molecules_dir, file)\n",
    "        labeled_images.append(labeledImage(image_path))\n",
    "        \n",
    "        for i in range(len(labels)):\n",
    "            label_path = os.path.join(labels_dir[i], file.split('.')[0] + '.txt')\n",
    "            if os.path.exists(label_path):\n",
    "                #print(label_path)\n",
    "                labeled_images[-1].add_labels_from_file(labels[i], label_path)"
   ]
  },
  {
   "cell_type": "code",
   "execution_count": null,
   "id": "4af1df47",
   "metadata": {},
   "outputs": [],
   "source": [
    "Endpoint    = 'https://westus2.api.cognitive.microsoft.com/'\n",
    "Key         = '<Your Azure Key Here>'\n",
    "Resource_Id = '/subscriptions/<Your subscription id here>/resourceGroups/<Your resource group>/providers/Microsoft.CognitiveServices/accounts/<Your account name>'\n",
    "Project_Id  = '<Your project id>'\n",
    "\n",
    "ACVObjectDetector = AzureCVObjectDetectionAPI(Endpoint, Key, Resource_Id, Project_Id)"
   ]
  },
  {
   "cell_type": "code",
   "execution_count": null,
   "id": "4385068e",
   "metadata": {},
   "outputs": [],
   "source": [
    "project_name = 'molecule_recognition_Saeki_one_labels'\n",
    "ACVObjectDetector.create_project(project_name)"
   ]
  },
  {
   "cell_type": "code",
   "execution_count": null,
   "id": "ff1c21fb",
   "metadata": {},
   "outputs": [],
   "source": [
    "ACVObjectDetector.upload_training_images(labeled_images)"
   ]
  },
  {
   "cell_type": "code",
   "execution_count": null,
   "id": "f3749cb6",
   "metadata": {},
   "outputs": [],
   "source": [
    "test_molecules_dir = './elsevier_images/test/image/'\n",
    "test_labels_dir = './elsevier_images/train/label/'\n",
    "\n",
    "test_images = []\n",
    "\n",
    "for file in os.listdir(test_molecules_dir):\n",
    "    if file.endswith(\".jpeg\"):\n",
    "        image_path = os.path.join(test_molecules_dir, file)\n",
    "        test_images.append(labeledImage(image_path))"
   ]
  },
  {
   "cell_type": "code",
   "execution_count": null,
   "id": "55569d92",
   "metadata": {},
   "outputs": [],
   "source": [
    "len(test_images)"
   ]
  },
  {
   "cell_type": "code",
   "execution_count": null,
   "id": "589c89d5",
   "metadata": {},
   "outputs": [],
   "source": [
    "ACVObjectDetector.publish_iteration_name = 'Iteration1'"
   ]
  },
  {
   "cell_type": "code",
   "execution_count": null,
   "id": "89883a21",
   "metadata": {},
   "outputs": [],
   "source": [
    "ACVObjectDetector.predict_testing_images(test_images,probality_threshold=0.5)"
   ]
  },
  {
   "cell_type": "code",
   "execution_count": null,
   "id": "16989ff9",
   "metadata": {},
   "outputs": [],
   "source": [
    "# save labels\n",
    "test_labels_dir_prefix = './elsevier_images/test/'\n",
    "test_labels_dir_affix  = '_labels'\n",
    "\n",
    "for tag in labels:\n",
    "    test_labels_dir = test_labels_dir_prefix + tag + test_labels_dir_affix\n",
    "    if not os.path.exists(test_labels_dir):\n",
    "        os.mkdir(test_labels_dir)\n",
    "\n",
    "for img in test_images:\n",
    "    for tag in img.labels.keys():\n",
    "        test_labels_dir = test_labels_dir_prefix + tag + test_labels_dir_affix\n",
    "        label_path = os.path.join(test_labels_dir, '_'.join(img.name.split('.')[:-1]) + '.txt')\n",
    "        #print(label_path)\n",
    "        img.write_labels_to_file(tag, label_path)"
   ]
  },
  {
   "cell_type": "code",
   "execution_count": null,
   "id": "91249598",
   "metadata": {},
   "outputs": [],
   "source": [
    "# read saved_labels in\n",
    "test_dir = './elsevier_images/test/image'\n",
    "test_labels_dir = ['./elsevier_images/test/' + l + '_labels' for l in labels]\n",
    "\n",
    "test_images = []\n",
    "\n",
    "for file in os.listdir(test_dir):\n",
    "    if file.endswith(\".jpeg\"):\n",
    "        image_path = os.path.join(test_dir, file)\n",
    "        test_images.append(labeledImage(image_path))\n",
    "        \n",
    "        for i in range(len(labels)):\n",
    "            label_path = os.path.join(test_labels_dir[i], file.split('.')[0] + '.txt')\n",
    "            if os.path.exists(label_path):\n",
    "                #print(label_path)\n",
    "                test_images[-1].add_labels_from_file(labels[i], label_path)"
   ]
  },
  {
   "cell_type": "code",
   "execution_count": null,
   "id": "7cc91a20",
   "metadata": {},
   "outputs": [],
   "source": [
    "test_images[0].labels"
   ]
  },
  {
   "cell_type": "code",
   "execution_count": null,
   "id": "36c52fdc",
   "metadata": {},
   "outputs": [],
   "source": [
    "# save train cropped files\n",
    "croped_dir = './elsevier_images/cropped_molecules/train'\n",
    "if not os.path.exists(croped_dir):\n",
    "    os.mkdir(croped_dir)\n",
    "\n",
    "for img in labeled_images:\n",
    "    img.save_cropped_images_based_on_labels(croped_dir, saved_tags=['molecule'])"
   ]
  },
  {
   "cell_type": "code",
   "execution_count": null,
   "id": "9a21bb7f",
   "metadata": {},
   "outputs": [],
   "source": [
    "# save test cropped files\n",
    "croped_dir = './elsevier_images/cropped_molecules/test'\n",
    "if not os.path.exists(croped_dir):\n",
    "    os.mkdir(croped_dir)\n",
    "\n",
    "test_image_scale = 1.2\n",
    "for img in test_images:\n",
    "    img.save_cropped_images_based_on_labels(croped_dir,  scale_bbox=test_image_scale, saved_tags=['molecule'])"
   ]
  },
  {
   "cell_type": "code",
   "execution_count": null,
   "id": "af1ed4b1",
   "metadata": {},
   "outputs": [],
   "source": []
  }
 ],
 "metadata": {
  "kernelspec": {
   "display_name": "Python 3 (ipykernel)",
   "language": "python",
   "name": "python3"
  },
  "language_info": {
   "codemirror_mode": {
    "name": "ipython",
    "version": 3
   },
   "file_extension": ".py",
   "mimetype": "text/x-python",
   "name": "python",
   "nbconvert_exporter": "python",
   "pygments_lexer": "ipython3",
   "version": "3.12.3"
  }
 },
 "nbformat": 4,
 "nbformat_minor": 5
}
