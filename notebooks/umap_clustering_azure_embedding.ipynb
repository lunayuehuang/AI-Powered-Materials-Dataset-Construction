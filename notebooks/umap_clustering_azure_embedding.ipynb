{
 "cells": [
  {
   "cell_type": "code",
   "execution_count": null,
   "metadata": {},
   "outputs": [],
   "source": [
    "import pandas as pd\n",
    "import numpy as np\n",
    "import umap.umap_ as umap\n",
    "import matplotlib.pyplot as plt\n",
    "from matplotlib.lines import Line2D\n",
    "import sklearn.cluster as cluster\n",
    "from kneed import KneeLocator\n",
    "from sklearn.cluster import KMeans\n",
    "from collections import Counter\n",
    "from sklearn.metrics import silhouette_score"
   ]
  },
  {
   "cell_type": "markdown",
   "metadata": {},
   "source": [
    "# Get the plots for embedding with all seads, search, battery and OPV stability"
   ]
  },
  {
   "cell_type": "code",
   "execution_count": null,
   "metadata": {},
   "outputs": [],
   "source": [
    "saeki_fullerene_opv = pd.read_csv(\"../data/all_paper_with_abstracts.csv\", encoding = \"ISO-8859-1\")\n",
    "saeki_fullerene_opv_embeddings = np.load(\"../data/all_paper_with_abstracts_embeddings.npy\")\n",
    "saeki_fullerene_opv_targets = saeki_fullerene_opv['group']"
   ]
  },
  {
   "cell_type": "code",
   "execution_count": null,
   "metadata": {},
   "outputs": [],
   "source": [
    "standard_embedding = umap.UMAP(random_state=42).fit_transform(saeki_fullerene_opv_embeddings)\n",
    "standard_embedding_df = pd.DataFrame(standard_embedding, columns=['Arbitrary Dimension x', 'Arbitrary Dimension y'])"
   ]
  },
  {
   "cell_type": "code",
   "execution_count": null,
   "metadata": {},
   "outputs": [],
   "source": [
    "plt.figure(figsize=(16,9))\n",
    "\n",
    "color_map = ['C0', 'C1', 'C2', 'C0']\n",
    "\n",
    "for i in range(4):\n",
    "    embedding_i = standard_embedding_df[saeki_fullerene_opv_targets == i].to_numpy()\n",
    "    plt.scatter(embedding_i[:, 0], embedding_i[:, 1], c=color_map[i], label=i, s=5, alpha=1)\n",
    "\n",
    "legend_handles = [\n",
    "    Line2D([0], [0], marker='o', color='w', label='(photovoltaic polymer) | (polymer solar cell)', markersize=10, markerfacecolor='C0'),\n",
    "    Line2D([0], [0], marker='o', color='w', label='OPV Stability and Degradation', markersize=10, markerfacecolor='C1'),\n",
    "    Line2D([0], [0], marker='o', color='w', label='Lithium Batteries', markersize=10, markerfacecolor='C2'),\n",
    "]\n",
    "\n",
    "# Add the custom legend to the plot\n",
    "plt.legend(handles=legend_handles, title='Search Key Words', title_fontsize=17, fontsize=17)\n",
    "plt.xlabel('Arbitrary Dimension x', fontsize=20)\n",
    "plt.ylabel('Arbitrary Dimension y', fontsize=20)\n",
    "plt.tick_params(axis='both', labelsize=20)\n",
    "plt.xlim([-5.5, 12.5])\n",
    "plt.ylim([-5, 5.125])\n",
    "\n",
    "plt.savefig('../plots/Umap_all_plots_randomstate_42_azure_embedding.png', bbox_inches='tight')"
   ]
  },
  {
   "cell_type": "markdown",
   "metadata": {},
   "source": [
    "# Assembling clustering dataset"
   ]
  },
  {
   "cell_type": "code",
   "execution_count": null,
   "metadata": {},
   "outputs": [],
   "source": [
    "counts = saeki_fullerene_opv['group'].value_counts()\n",
    "counts"
   ]
  },
  {
   "cell_type": "code",
   "execution_count": null,
   "metadata": {},
   "outputs": [],
   "source": [
    "len_search_and_seeds = counts[0] + counts[3] + counts[5]\n",
    "saeki_fullerene_opv = saeki_fullerene_opv[:len_search_and_seeds]\n",
    "saeki_fullerene_opv_embeddings = saeki_fullerene_opv_embeddings[:len_search_and_seeds]\n",
    "saeki_fullerene_opv_targets = saeki_fullerene_opv['group']"
   ]
  },
  {
   "cell_type": "code",
   "execution_count": null,
   "metadata": {},
   "outputs": [],
   "source": [
    "saeki_fullerene_opv['group'].value_counts(), saeki_fullerene_opv_embeddings.shape"
   ]
  },
  {
   "cell_type": "code",
   "execution_count": null,
   "metadata": {},
   "outputs": [],
   "source": [
    "standard_embedding = umap.UMAP(random_state=40).fit_transform(saeki_fullerene_opv_embeddings)\n",
    "standard_embedding_df = pd.DataFrame(standard_embedding, columns=['Arbitrary Dimension x', 'Arbitrary Dimension y'])"
   ]
  },
  {
   "cell_type": "code",
   "execution_count": null,
   "metadata": {},
   "outputs": [],
   "source": [
    "plt.figure(figsize=(16,9))\n",
    "\n",
    "for i in (0, 3):\n",
    "    embedding_i = standard_embedding_df[saeki_fullerene_opv_targets == i].to_numpy()\n",
    "    plt.scatter(embedding_i[:, 0], embedding_i[:, 1], c=f\"C{i}\", label=i, s=5, alpha=1)\n",
    "\n",
    "for seed in range(0,5):\n",
    "    plt.scatter(standard_embedding[seed, 0], standard_embedding[seed, 1], c='k', s=100, marker = '*')\n",
    "\n",
    "legend_handles = [\n",
    "    Line2D([0], [0], marker='*', color='w', label='Seeds', markersize=15, markerfacecolor='k'),\n",
    "    Line2D([0], [0], marker='o', color='w', label='Saeki papers in search results', markersize=10, markerfacecolor='C3'),\n",
    "    Line2D([0], [0], marker='o', color='w', label='non-Saeki papers in search results', markersize=10, markerfacecolor='C0'),\n",
    "]\n",
    "\n",
    "# Add the custom legend to the plot\n",
    "plt.legend(handles=legend_handles, loc='best', fontsize=17)\n",
    "plt.xlabel('Arbitrary Dimension x', fontsize=20)\n",
    "plt.ylabel('Arbitrary Dimension y', fontsize=20)\n",
    "plt.tick_params(axis='both', labelsize=20)\n",
    "\n",
    "plt.savefig('../plots/Umap_plots_randomstate_93_azure_embedding.png', bbox_inches='tight')"
   ]
  },
  {
   "cell_type": "code",
   "execution_count": null,
   "metadata": {},
   "outputs": [],
   "source": [
    "kmeans_kwargs = {\n",
    "    \"init\": \"random\",\n",
    "    \"n_init\": 10,\n",
    "    \"max_iter\": 300,\n",
    "    \"random_state\": 40,\n",
    "}"
   ]
  },
  {
   "cell_type": "code",
   "execution_count": null,
   "metadata": {},
   "outputs": [],
   "source": [
    "sse = []\n",
    "for k in range(1, 41):\n",
    "    print(k)\n",
    "    clusterer = KMeans(n_clusters=k, **kmeans_kwargs)\n",
    "    clusterer.fit(saeki_fullerene_opv_embeddings)\n",
    "    sse.append(clusterer.inertia_)\n",
    "\n",
    "## Find the elbow point\n",
    "kl = KneeLocator(\n",
    "    range(1, 41), sse, curve=\"convex\", direction=\"decreasing\"\n",
    ")\n",
    "\n",
    "print(\"Optimal number of clusters based on elbow method: \", kl.elbow)"
   ]
  },
  {
   "cell_type": "code",
   "execution_count": null,
   "metadata": {},
   "outputs": [],
   "source": [
    "kmeans_labels = cluster.KMeans(n_clusters=kl.elbow, **kmeans_kwargs).fit_predict(saeki_fullerene_opv_embeddings)\n",
    "plt.figure(figsize=(16,9))\n",
    "cmap_name = 'tab20'\n",
    "cmap = plt.get_cmap(cmap_name)\n",
    "colors = [cmap(i/(kl.elbow - 1)) for i in range(kl.elbow)]\n",
    "\n",
    "legend_handles = []\n",
    "\n",
    "for i in range(kl.elbow):\n",
    "    legend_handles.append(Line2D([0], [0], marker='o', color='w', label=f'Cluster {i+1}', markersize=10, markerfacecolor=colors[i]))\n",
    "\n",
    "legend_handles.append(Line2D([0], [0], marker='*', color='w', label='Seeds', markersize=15, markerfacecolor='k'))\n",
    "plt.scatter(standard_embedding[:, 0], standard_embedding[:, 1], c=kmeans_labels, s=5, cmap=cmap_name, alpha=0.75);\n",
    "\n",
    "for seed in range(0,5):\n",
    "    plt.scatter(standard_embedding[seed, 0], standard_embedding[seed, 1], c='k', s=100, marker = '*')\n",
    "\n",
    "plt.legend(handles=legend_handles, loc='best', fontsize=17)\n",
    "plt.xlabel('Arbitrary Dimension x', fontsize=20)\n",
    "plt.ylabel('Arbitrary Dimension y', fontsize=20)\n",
    "plt.tick_params(axis='both', labelsize=20)\n",
    "plt.savefig('../plots/clustering_plots_randomstate_40_azure_embedding.png', bbox_inches='tight')"
   ]
  },
  {
   "cell_type": "code",
   "execution_count": null,
   "metadata": {},
   "outputs": [],
   "source": [
    "for i in range(0,5):\n",
    "    print(f\"seed {i} is in cluster {kmeans_labels[i]+1}\")"
   ]
  },
  {
   "cell_type": "markdown",
   "metadata": {},
   "source": [
    "Based on this we have determined our best cluster. Note: When referring to the clusters in the following graphics, I called the first one cluster 1. If we want to switch to zero based numbering we can change index_offset in the next block of code."
   ]
  },
  {
   "cell_type": "code",
   "execution_count": null,
   "metadata": {},
   "outputs": [],
   "source": [
    "best_cluster = 9\n",
    "\n",
    "# Change to 0 for zero based indexing\n",
    "index_offset = 1\n",
    "\n",
    "best_cluster += -1 * index_offset\n"
   ]
  },
  {
   "cell_type": "markdown",
   "metadata": {},
   "source": [
    "Finding the breakdown of clusters for each group of papers"
   ]
  },
  {
   "cell_type": "code",
   "execution_count": null,
   "metadata": {},
   "outputs": [],
   "source": [
    "targets = pd.DataFrame(saeki_fullerene_opv_targets)['group'].to_list()\n",
    "saeki_clusters = [0] * kl.elbow\n",
    "search_clusters = [0] * kl.elbow\n",
    "\n",
    "for i in range(5, len(targets)):\n",
    "    group = kmeans_labels[i]\n",
    "    if targets[i] == 3:\n",
    "        saeki_clusters[group] += 1\n",
    "    elif targets[i] == 0:\n",
    "        search_clusters[group] += 1"
   ]
  },
  {
   "cell_type": "code",
   "execution_count": null,
   "metadata": {},
   "outputs": [],
   "source": [
    "saeki_clusters, saeki_clusters[best_cluster]"
   ]
  },
  {
   "cell_type": "code",
   "execution_count": null,
   "metadata": {},
   "outputs": [],
   "source": [
    "kmeans_labels_dict = Counter(kmeans_labels.tolist())\n",
    "kmeans_labels_dict, kmeans_labels_dict[best_cluster]"
   ]
  },
  {
   "cell_type": "code",
   "execution_count": null,
   "metadata": {},
   "outputs": [],
   "source": [
    "cmap = plt.get_cmap('tab20')\n",
    "colors2 = [cmap(i/(kl.elbow - 1)) for i in range(kl.elbow)]"
   ]
  },
  {
   "cell_type": "code",
   "execution_count": null,
   "metadata": {},
   "outputs": [],
   "source": [
    "labels = list(range(index_offset,kl.elbow+index_offset))  # Labels for each segment\n",
    "explode = [0] * kl.elbow\n",
    "explode[best_cluster] = .05\n",
    "# Create the pie chart\n",
    "plt.figure(figsize=(10, 8))  # Optional: specify the size of the figure\n",
    "wedges, texts, autotexts = plt.pie(saeki_clusters, explode=explode, autopct='%1.1f', startangle=140, colors = colors2, pctdistance=1.1)\n",
    "plt.legend(labels, title=\"Clusters\", loc=\"center left\", bbox_to_anchor=(1, 0, 0.5, 1))\n",
    "# Equal aspect ratio ensures that pie chart is a circle\n",
    "\n",
    "for i, a in enumerate(autotexts):\n",
    "    print(a)\n",
    "    if float(a.get_text()) < 1:  # Show percentage only if slice is small\n",
    "        a.set_text('')\n",
    "    else:\n",
    "        a.set_text(f'{a.get_text()}%')\n",
    "plt.axis('equal')\n",
    "\n",
    "# Show the plot\n",
    "plt.title('The Cluster Distribution of Saeki\\'s Papers')\n",
    "plt.savefig('../plots/clustering_plots_randomstate_40_cluster_of_saeki_azure_embedding.png', bbox_inches='tight')\n",
    "plt.show()"
   ]
  },
  {
   "cell_type": "code",
   "execution_count": null,
   "metadata": {},
   "outputs": [],
   "source": [
    "# let's take a look at what silhouette analysis looks like:\n",
    "from sklearn.metrics import silhouette_samples, silhouette_score\n",
    "import matplotlib.cm as cm\n",
    "\n",
    "X = saeki_fullerene_opv_embeddings\n",
    "n_clusters = kl.elbow\n",
    "#kmeans = KMeans(n_clusters=n_clusters , **kmeans_kwargs)\n",
    "#kmeans.fit(saeki_fullerene_opv)\n",
    "cluster_labels = kmeans_labels\n",
    "score = silhouette_score(saeki_fullerene_opv_embeddings, cluster_labels)\n",
    "\n",
    "\n",
    "# Create a subplot with 1 row and 2 columns\n",
    "fig, (ax1) = plt.subplots(1, 1)\n",
    "fig.set_size_inches(12, 7)\n",
    "\n",
    "# The 1st subplot is the silhouette plot\n",
    "# The silhouette coefficient can range from -1, 1 but in this example all\n",
    "# lie within [-0.1, 1]\n",
    "ax1.set_xlim(-0.1, .5)\n",
    "# The (n_clusters+1)*10 is for inserting blank space between silhouette\n",
    "# plots of individual clusters, to demarcate them clearly.\n",
    "ax1.set_ylim([0, len(saeki_fullerene_opv_embeddings) + (n_clusters + 1) * 10])\n",
    "\n",
    "\n",
    "# The silhouette_score gives the average value for all the samples.\n",
    "# This gives a perspective into the density and separation of the formed\n",
    "# clusters\n",
    "silhouette_avg = silhouette_score(saeki_fullerene_opv_embeddings, cluster_labels)\n",
    "print(\"For n_clusters =\", n_clusters,\n",
    "    \"The average silhouette_score is :\", silhouette_avg)\n",
    "\n",
    "# Compute the silhouette scores for each sample\n",
    "sample_silhouette_values = silhouette_samples(saeki_fullerene_opv_embeddings, cluster_labels)\n",
    "\n",
    "y_lower = 10\n",
    "    \n",
    "for i in range(n_clusters):\n",
    "    # Aggregate the silhouette scores for samples belonging to\n",
    "    # cluster i, and sort them\n",
    "    ith_cluster_silhouette_values = \\\n",
    "        sample_silhouette_values[cluster_labels == i]\n",
    "\n",
    "    ith_cluster_silhouette_values.sort()\n",
    "\n",
    "    size_cluster_i = ith_cluster_silhouette_values.shape[0]\n",
    "    y_upper = y_lower + size_cluster_i\n",
    "    color = cmap(float(i) / (n_clusters - 1))\n",
    "    ax1.fill_betweenx(np.arange(y_lower, y_upper),\n",
    "                      0, ith_cluster_silhouette_values,\n",
    "                      facecolor=color, edgecolor=color, alpha=1)\n",
    "\n",
    "    # Label the silhouette plots with their cluster numbers at the middle\n",
    "    ax1.text(-0.05, y_lower + 0.5 * size_cluster_i, str(i+index_offset))\n",
    "\n",
    "    # Compute the new y_lower for next plot\n",
    "    y_lower = y_upper + 10  # 10 for the 0 samples\n",
    "\n",
    "ax1.set_xlabel(\"Silhouette coefficient value\")\n",
    "ax1.set_ylabel(\"Cluster label\")\n",
    "\n",
    "# The vertical line for average silhouette score of all the values\n",
    "ax1.axvline(x=silhouette_avg, color=\"red\", linestyle=\"--\")\n",
    "\n",
    "ax1.set_yticks([])  # Clear the yaxis labels / ticks\n",
    "ax1.set_xticks([-0.1,0, 0.1, 0.2, 0.3, 0.4, 0.5])\n",
    "fig.savefig('../plots/clustering_plots_randomstate_40_silhouette_score_azure_embedding.png', bbox_inches='tight')"
   ]
  },
  {
   "cell_type": "markdown",
   "metadata": {},
   "source": [
    "# Export Data"
   ]
  },
  {
   "cell_type": "code",
   "execution_count": null,
   "metadata": {},
   "outputs": [],
   "source": [
    "saeki_fullerene_opv_save_df = saeki_fullerene_opv.drop(saeki_fullerene_opv.columns[:1], axis=1)\n",
    "saeki_fullerene_opv_save_df = pd.concat([saeki_fullerene_opv_save_df, standard_embedding_df], axis=1)\n",
    "saeki_fullerene_opv_save_df = pd.concat([saeki_fullerene_opv_save_df, pd.DataFrame(kmeans_labels, columns=['kmean_label'])], axis=1)\n",
    "saeki_fullerene_opv_save_df.to_csv(\"../data/search_clustering_results_randomstate_40_azure_embedding.csv\", encoding = \"ISO-8859-1\")"
   ]
  },
  {
   "cell_type": "markdown",
   "metadata": {},
   "source": [
    "# Random State Experiments"
   ]
  },
  {
   "cell_type": "code",
   "execution_count": null,
   "metadata": {},
   "outputs": [],
   "source": [
    "opt_number_clusters = []\n",
    "chosen_saeki = []\n",
    "chosen_search = []"
   ]
  },
  {
   "cell_type": "code",
   "execution_count": null,
   "metadata": {},
   "outputs": [],
   "source": [
    "for randS in range(100):\n",
    "    print(\"Expriment with random state = \", randS)\n",
    "    standard_embedding = umap.UMAP(random_state=randS).fit_transform(saeki_fullerene_opv_embeddings)\n",
    "    kmeans_kwargs = {\n",
    "        \"init\": \"random\",\n",
    "        \"n_init\": 10,\n",
    "        \"max_iter\": 300,\n",
    "        \"random_state\": randS,\n",
    "    }\n",
    "    sse = []\n",
    "    for k in range(1, 41):\n",
    "        clusterer = KMeans(n_clusters=k, **kmeans_kwargs)\n",
    "        clusterer.fit(saeki_fullerene_opv_embeddings)\n",
    "        sse.append(clusterer.inertia_)\n",
    "\n",
    "    ## Find the elbow point\n",
    "    kl = KneeLocator(\n",
    "        range(1, 41), sse, curve=\"convex\", direction=\"decreasing\"\n",
    "    )\n",
    "    print(\"  Optimal number of clusters based on elbow method: \", kl.elbow)\n",
    "    opt_number_clusters.append(kl.elbow)\n",
    "\n",
    "    kmeans_labels = cluster.KMeans(n_clusters=kl.elbow, **kmeans_kwargs).fit_predict(saeki_fullerene_opv_embeddings)\n",
    "\n",
    "    chosen_clusters = set()\n",
    "    for i in range(0,5):\n",
    "        chosen_clusters.add(kmeans_labels[i])\n",
    "        print(f\"  seed {i} is in cluster {kmeans_labels[i]+1}\")\n",
    "\n",
    "    targets = pd.DataFrame(saeki_fullerene_opv_targets)['group'].to_list()\n",
    "    saeki_clusters = [0] * kl.elbow\n",
    "    search_clusters = [0] * kl.elbow\n",
    "\n",
    "    for i in range(5, len(targets)):\n",
    "        group = kmeans_labels[i]\n",
    "        if targets[i] == 3:\n",
    "            saeki_clusters[group] += 1\n",
    "        elif targets[i] == 0:\n",
    "            search_clusters[group] += 1\n",
    "\n",
    "    chosen_saeki.append(sum([saeki_clusters[i] for i in chosen_clusters]))\n",
    "    chosen_search.append(sum([search_clusters[i] for i in chosen_clusters]))\n",
    "    print(f\"  chosed {chosen_saeki[-1]} saeki, {chosen_search[-1]} non saeki in search\")"
   ]
  },
  {
   "cell_type": "code",
   "execution_count": null,
   "metadata": {},
   "outputs": [],
   "source": [
    "parsed_results = []\n",
    "\n",
    "splitted_result = Random_Test_results.split('\\n')\n",
    "i = 1\n",
    "while i + 9 < len(splitted_result):\n",
    "    choosed_paper = splitted_result[i+9].split(' ')\n",
    "    parsed_results.append({\n",
    "        \"optimal number of clusters\": int(splitted_result[i+3].split(' ')[-1]),\n",
    "        \"seed number of clusters\": len(set([splitted_result[j].split(' ')[-1] for j in range(i+4, i+9)])),\n",
    "        \"chosed saeki papers\": int(choosed_paper[3]),\n",
    "        \"chosed non saeki papers\": int(choosed_paper[5]),\n",
    "    })\n",
    "    i+=10"
   ]
  },
  {
   "cell_type": "code",
   "execution_count": null,
   "metadata": {},
   "outputs": [],
   "source": [
    "len(parsed_results)"
   ]
  },
  {
   "cell_type": "code",
   "execution_count": null,
   "metadata": {},
   "outputs": [],
   "source": [
    "optimal_1 = []\n",
    "optimal_2 = []\n",
    "chosed_saeki_1 = []\n",
    "chosed_saeki_2 = []\n",
    "chosed_all_1 = []\n",
    "chosed_all_2 = []\n",
    "\n",
    "for result in parsed_results:\n",
    "    if result['seed number of clusters'] == 1:\n",
    "        optimal_1.append(result['optimal number of clusters'])\n",
    "        chosed_saeki_1.append(result['chosed saeki papers'])\n",
    "        chosed_all_1.append(result['chosed saeki papers'] + result['chosed non saeki papers'])\n",
    "    elif result['seed number of clusters'] == 2:\n",
    "        optimal_2.append(result['optimal number of clusters'])\n",
    "        chosed_saeki_2.append(result['chosed saeki papers'])\n",
    "        chosed_all_2.append(result['chosed saeki papers'] + result['chosed non saeki papers'])\n",
    "    else:\n",
    "        print(result['seed number of clusters'])"
   ]
  },
  {
   "cell_type": "code",
   "execution_count": null,
   "metadata": {},
   "outputs": [],
   "source": [
    "len(optimal_1), np.average(optimal_1), np.std(optimal_1)"
   ]
  },
  {
   "cell_type": "code",
   "execution_count": null,
   "metadata": {},
   "outputs": [],
   "source": [
    "np.average(chosed_saeki_1), np.std(chosed_saeki_1)"
   ]
  },
  {
   "cell_type": "code",
   "execution_count": null,
   "metadata": {},
   "outputs": [],
   "source": [
    "np.average(chosed_all_1), np.std(chosed_all_1)"
   ]
  },
  {
   "cell_type": "code",
   "execution_count": null,
   "metadata": {},
   "outputs": [],
   "source": [
    "len(optimal_2), np.average(optimal_2), np.std(optimal_2)"
   ]
  },
  {
   "cell_type": "code",
   "execution_count": null,
   "metadata": {},
   "outputs": [],
   "source": [
    "np.average(chosed_saeki_2), np.std(chosed_saeki_2)"
   ]
  },
  {
   "cell_type": "code",
   "execution_count": null,
   "metadata": {},
   "outputs": [],
   "source": [
    "np.average(chosed_all_2), np.std(chosed_all_2)"
   ]
  },
  {
   "cell_type": "code",
   "execution_count": null,
   "metadata": {},
   "outputs": [],
   "source": [
    "np.average(chosed_saeki_1 + chosed_saeki_2), np.std(chosed_saeki_1 + chosed_saeki_2)"
   ]
  },
  {
   "cell_type": "code",
   "execution_count": null,
   "metadata": {},
   "outputs": [],
   "source": [
    "np.average(chosed_all_1 + chosed_all_2), np.std(chosed_all_1 + chosed_all_2)"
   ]
  },
  {
   "cell_type": "markdown",
   "metadata": {},
   "source": [
    "# plot open ai cluster"
   ]
  },
  {
   "cell_type": "code",
   "execution_count": null,
   "metadata": {},
   "outputs": [],
   "source": [
    "df = pd.read_csv(\"../data/search_clustering_results_randomstate_42_azure_embedding_with_openai_screening.csv\", encoding = \"ISO-8859-1\")"
   ]
  },
  {
   "cell_type": "code",
   "execution_count": null,
   "metadata": {},
   "outputs": [],
   "source": [
    "labels = df['r3']"
   ]
  },
  {
   "cell_type": "code",
   "execution_count": null,
   "metadata": {},
   "outputs": [],
   "source": [
    "plt.figure(figsize=(16,9))\n",
    "cmap_name = 'RdBu_r'\n",
    "cmap = plt.get_cmap(cmap_name)\n",
    "colors = [cmap(i/(kl.elbow - 1)) for i in range(kl.elbow)]\n",
    "\n",
    "legend_handles = []\n",
    "\n",
    "# for i in range(kl.elbow):\n",
    "#     legend_handles.append(Line2D([0], [0], marker='o', color='w', label=f'Cluster {i+1}', markersize=10, markerfacecolor=colors[i]))\n",
    "\n",
    "legend_handles.append(Line2D([0], [0], marker='*', color='w', label='Seeds', markersize=15, markerfacecolor='k'))\n",
    "plt.scatter(standard_embedding[:, 0], standard_embedding[:, 1], c=labels, s=5, cmap=cmap_name, alpha=0.75);\n",
    "cbar = plt.colorbar(location='right', pad=-0.08, shrink=0.8, label='relevance score')\n",
    "cbar.ax.set_yticklabels(range(0, 11, 2), fontsize=17)\n",
    "cbar.set_label('relevance score', fontsize=17)\n",
    "\n",
    "for seed in range(0,5):\n",
    "    plt.scatter(standard_embedding[seed, 0], standard_embedding[seed, 1], c='k', s=100, marker = '*')\n",
    "\n",
    "plt.legend(handles=legend_handles, loc='best', fontsize=17)\n",
    "plt.xlabel('Arbitrary Dimension x', fontsize=20)\n",
    "plt.ylabel('Arbitrary Dimension y', fontsize=20)\n",
    "plt.tick_params(axis='both', labelsize=20)\n",
    "plt.savefig('../plots/clustering_plots_randomstate_40_azure_embedding_openai.png', bbox_inches='tight')"
   ]
  },
  {
   "cell_type": "markdown",
   "metadata": {},
   "source": [
    "# plot comperison of both methods"
   ]
  },
  {
   "cell_type": "code",
   "execution_count": null,
   "metadata": {},
   "outputs": [],
   "source": [
    "kmeans_labels[i]"
   ]
  },
  {
   "cell_type": "code",
   "execution_count": null,
   "metadata": {},
   "outputs": [],
   "source": [
    "labels[i] > 7"
   ]
  },
  {
   "cell_type": "code",
   "execution_count": null,
   "metadata": {},
   "outputs": [],
   "source": [
    "comparison_labels = []\n",
    "for i in range(kmeans_labels.size):\n",
    "    if kmeans_labels[i] == 8 and labels[i] >= 7:\n",
    "        comparison_labels.append(3)\n",
    "    elif kmeans_labels[i] == 8:\n",
    "        comparison_labels.append(1)\n",
    "    elif labels[i] >= 7:\n",
    "        comparison_labels.append(2)\n",
    "    else:\n",
    "        comparison_labels.append(0)\n",
    "comparison_labels = np.array(comparison_labels)"
   ]
  },
  {
   "cell_type": "code",
   "execution_count": null,
   "metadata": {},
   "outputs": [],
   "source": [
    "plt.figure(figsize=(16,12))\n",
    "\n",
    "colormap = ['C0', 'C8', 'C2', 'C3']\n",
    "\n",
    "for i in range(0, 4):\n",
    "    embedding_i = standard_embedding_df[comparison_labels == i].to_numpy()\n",
    "    plt.scatter(embedding_i[:, 0], embedding_i[:, 1], c=colormap[i], label=i, s=5, alpha=1)\n",
    "\n",
    "\n",
    "embedding_i = standard_embedding_df.loc[:4, :].to_numpy()\n",
    "plt.scatter(embedding_i[:, 0], embedding_i[:, 1], c=\"k\", s=100, marker = '*')\n",
    "\n",
    "legend_handles = [\n",
    "    Line2D([0], [0], marker='*', color='w', label='Seeds', markersize=15, markerfacecolor='k'),\n",
    "    Line2D([0], [0], marker='o', color='w', label='In both refined lists of LLM-UMap-kNN and direct LLM', markersize=10, markerfacecolor=colormap[3]),\n",
    "    Line2D([0], [0], marker='o', color='w', label='Only in the refined list of LLM-UMap-kNN', markersize=10, markerfacecolor=colormap[1]),\n",
    "    Line2D([0], [0], marker='o', color='w', label='Only in the refined list of direct LLM', markersize=10, markerfacecolor=colormap[2]),\n",
    "    Line2D([0], [0], marker='o', color='w', label='In neither refined lists of LLM-UMap-kNN and direct LLM', markersize=10, markerfacecolor=colormap[0]),\n",
    "]\n",
    "\n",
    "# Add the custom legend to the plot\n",
    "plt.legend(handles=legend_handles, loc='lower center', fontsize=17)\n",
    "plt.xlabel('Arbitrary Dimension x', fontsize=20)\n",
    "plt.ylabel('Arbitrary Dimension y', fontsize=20)\n",
    "plt.tick_params(axis='both', labelsize=20)\n",
    "plt.ylim([-5, 12])\n",
    "\n",
    "plt.savefig('../plots/LLM_UMap_kNN_LLM_comprison.png', bbox_inches='tight')"
   ]
  },
  {
   "cell_type": "code",
   "execution_count": null,
   "metadata": {},
   "outputs": [],
   "source": [
    "pd.DataFrame(comparison_labels).value_counts()"
   ]
  },
  {
   "cell_type": "code",
   "execution_count": null,
   "metadata": {},
   "outputs": [],
   "source": [
    "df['kmean_label'] = kmeans_labels"
   ]
  },
  {
   "cell_type": "code",
   "execution_count": null,
   "metadata": {},
   "outputs": [],
   "source": [
    "df['comparison_label'] = comparison_labels"
   ]
  },
  {
   "cell_type": "code",
   "execution_count": null,
   "metadata": {},
   "outputs": [],
   "source": [
    "df['Arbitrary Dimension y'] = standard_embedding_df['Arbitrary Dimension y']"
   ]
  },
  {
   "cell_type": "code",
   "execution_count": null,
   "metadata": {},
   "outputs": [],
   "source": [
    "df.to_csv(\"../data/search_clustering_results_randomstate_40_azure_embedding_with_openai_screening.csv\", encoding = \"ISO-8859-1\")"
   ]
  },
  {
   "cell_type": "code",
   "execution_count": null,
   "metadata": {
    "scrolled": true
   },
   "outputs": [],
   "source": [
    "df = pd.read_csv(\"../data/search_clustering_results_randomstate_40_azure_embedding_with_openai_screening.csv\", encoding = \"ISO-8859-1\")"
   ]
  },
  {
   "cell_type": "code",
   "execution_count": null,
   "metadata": {},
   "outputs": [],
   "source": [
    "standard_embedding_df = df[['Arbitrary Dimension x', 'Arbitrary Dimension y']]"
   ]
  },
  {
   "cell_type": "code",
   "execution_count": null,
   "metadata": {},
   "outputs": [],
   "source": [
    "comparison_labels = df['comparison_label']"
   ]
  },
  {
   "cell_type": "code",
   "execution_count": null,
   "metadata": {},
   "outputs": [],
   "source": [
    "df.head(10)"
   ]
  },
  {
   "cell_type": "code",
   "execution_count": null,
   "metadata": {},
   "outputs": [],
   "source": [
    "standard_embedding_df.loc[:4, :]"
   ]
  },
  {
   "cell_type": "code",
   "execution_count": null,
   "metadata": {},
   "outputs": [],
   "source": []
  }
 ],
 "metadata": {
  "kernelspec": {
   "display_name": "Python 3 (ipykernel)",
   "language": "python",
   "name": "python3"
  },
  "language_info": {
   "codemirror_mode": {
    "name": "ipython",
    "version": 3
   },
   "file_extension": ".py",
   "mimetype": "text/x-python",
   "name": "python",
   "nbconvert_exporter": "python",
   "pygments_lexer": "ipython3",
   "version": "3.12.3"
  }
 },
 "nbformat": 4,
 "nbformat_minor": 4
}
