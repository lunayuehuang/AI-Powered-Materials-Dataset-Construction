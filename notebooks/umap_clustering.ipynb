{
 "cells": [
  {
   "cell_type": "code",
   "execution_count": null,
   "metadata": {},
   "outputs": [],
   "source": [
    "import pandas as pd\n",
    "import numpy as np\n",
    "import umap.umap_ as umap\n",
    "import matplotlib.pyplot as plt\n",
    "from matplotlib.lines import Line2D\n",
    "import sklearn.cluster as cluster\n",
    "from kneed import KneeLocator\n",
    "from sklearn.cluster import KMeans\n",
    "from collections import Counter\n",
    "from sklearn.metrics import silhouette_score"
   ]
  },
  {
   "cell_type": "code",
   "execution_count": null,
   "metadata": {},
   "outputs": [],
   "source": [
    "saeki_DOI = pd.read_csv('../data/Saeki_papers_doi.csv', encoding = \"ISO-8859-1\")['doi'].to_list()\n",
    "saeki_DOI = [x for x in saeki_DOI if not pd.isna(x)]\n",
    "\n",
    "def compare_with_saeki(doi):\n",
    "    if doi in saeki_DOI:\n",
    "        return 2\n",
    "    else:\n",
    "        return 5\n",
    "    \n",
    "def read_df_with_embedding(file):\n",
    "    df = pd.read_csv(file, encoding = \"ISO-8859-1\")\n",
    "    df = df.rename(columns={str(i): i for i in range(768)})\n",
    "    for i in range(768):\n",
    "        df[i] = df[i].astype(float)\n",
    "    return df"
   ]
  },
  {
   "cell_type": "code",
   "execution_count": null,
   "metadata": {},
   "outputs": [],
   "source": [
    "query = '(photovoltaic polymer efficiency) | (polymer solar cell efficiency)'\n",
    "search = read_df_with_embedding(f\"../data/search_results_{query.replace(' ', '_').replace('|', 'or')}_with_embedding.csv\")\n",
    "\n",
    "search1 = search.iloc[:3500]\n",
    "search2 = search.iloc[3500:]\n",
    "\n",
    "search1.to_csv(f\"../data/search_results_{query.replace(' ', '_').replace('|', 'or')}_with_embedding1.csv\")\n",
    "search2.to_csv(f\"../data/search_results_{query.replace(' ', '_').replace('|', 'or')}_with_embedding2.csv\")"
   ]
  },
  {
   "cell_type": "markdown",
   "metadata": {},
   "source": [
    "# Assembling dataset"
   ]
  },
  {
   "cell_type": "code",
   "execution_count": null,
   "metadata": {},
   "outputs": [],
   "source": [
    "#assembling dataframe to be clustered\n",
    "query = '(photovoltaic polymer efficiency) | (polymer solar cell efficiency)'\n",
    "\n",
    "\n",
    "seeds = read_df_with_embedding(\"../data/seeds_Saeki_fullerene_OPV_with_abstract_and_embedding.csv\")\n",
    "#saeki = read_df_with_embedding(\"../data/fullerene_OPV_with_abstract_and_embedding.csv\")\n",
    "#search csv too big to upload as 1 file\n",
    "search1 = read_df_with_embedding(f\"../data/search_results_{query.replace(' ', '_').replace('|', 'or')}_with_embedding_bulk1.csv\")\n",
    "search2 = read_df_with_embedding(f\"../data/search_results_{query.replace(' ', '_').replace('|', 'or')}_with_embedding_bulk2.csv\")\n",
    "search = pd.concat([search1,search2], ignore_index=True)\n",
    "battery = read_df_with_embedding(\"../data/search_results_lithium_batteries_with_embedding_bulk.csv\")\n",
    "oled = read_df_with_embedding(\"../data/search_results_organic_photovoltaic_stability_with_embedding_bulk.csv\")\n",
    "electrolyte = read_df_with_embedding(\"../data/search_results_electrolyte_with_embedding_bulk.csv\")\n",
    "\n",
    "\n",
    "\n",
    "seeds['group'] = 2\n",
    "#saeki['group'] = 1\n",
    "search['group'] = 5\n",
    "for i in range(0,len(search)):\n",
    "    search.loc[i, 'group'] = compare_with_saeki(search['DOI'][i])\n",
    "\n",
    "battery['group'] = 1\n",
    "oled['group'] = 3\n",
    "electrolyte['group'] = 4\n",
    "\n",
    "\n",
    "\n",
    "\n",
    "\n",
    "#saeki_fullerene_opv = pd.concat([seeds,saeki,search,battery,oled,electrolyte])\n",
    "saeki_fullerene_opv = pd.concat([seeds,electrolyte,oled,battery,search])\n",
    "saeki_fullerene_opv = saeki_fullerene_opv.drop(saeki_fullerene_opv.columns[:7], axis=1)\n",
    "saeki_fullerene_opv_targets = saeki_fullerene_opv.pop('group')"
   ]
  },
  {
   "cell_type": "code",
   "execution_count": null,
   "metadata": {},
   "outputs": [],
   "source": [
    "search"
   ]
  },
  {
   "cell_type": "markdown",
   "metadata": {},
   "source": [
    "# UMAP dimensional reduction"
   ]
  },
  {
   "cell_type": "code",
   "execution_count": null,
   "metadata": {},
   "outputs": [],
   "source": [
    "standard_embedding = umap.UMAP(random_state=42).fit_transform(saeki_fullerene_opv)\n",
    "plt.figure(figsize=(16,9))\n",
    "cmap_name = 'jet'\n",
    "\n",
    "\n",
    "plt.scatter(standard_embedding[:, 0], standard_embedding[:, 1], c=saeki_fullerene_opv_targets.astype(int), label=saeki_fullerene_opv_targets[1], s=5, cmap=cmap_name);\n",
    "cmap = plt.get_cmap(cmap_name)\n",
    "colors = [cmap(i/4) for i in range(5)]\n",
    "#colors = [cmap(i/3) for i in range(4)]\n",
    "for seed in range(0,5):\n",
    "    plt.scatter(standard_embedding[seed, 0], standard_embedding[seed, 1], c='r', s=50, marker = '*')\n",
    "\n",
    "legend_handles = [\n",
    "    Line2D([0], [0], marker='o', color='w', label='Saekis dataset', markersize=10, markerfacecolor=colors[1]),\n",
    "    Line2D([0], [0], marker='*', color='w', label='Seeds', markersize=10, markerfacecolor='r'),\n",
    "    Line2D([0], [0], marker='o', color='w', label='Search Results', markersize=10, markerfacecolor=colors[4]),\n",
    "    Line2D([0], [0], marker='o', color='w', label='Lithium Batteries', markersize=10, markerfacecolor=colors[0]),\n",
    "    Line2D([0], [0], marker='o', color='w', label='OPV Stability and Degradation', markersize=10, markerfacecolor=colors[2]),\n",
    "    Line2D([0], [0], marker='o', color='w', label='Electrolytes', markersize=10, markerfacecolor=colors[3])\n",
    "]\n",
    "\n",
    "# Add the custom legend to the plot\n",
    "plt.legend(handles=legend_handles, title='Groups', loc='best')\n",
    "plt.xlabel('Arbitrary Dimension x')\n",
    "plt.ylabel('Arbitrary Dimension y')"
   ]
  },
  {
   "cell_type": "markdown",
   "metadata": {},
   "source": [
    "2D UMAP visualization of the embeddings of papers from saeki's dataset compared with papers from different search results"
   ]
  },
  {
   "cell_type": "markdown",
   "metadata": {},
   "source": [
    "# Clustering"
   ]
  },
  {
   "cell_type": "code",
   "execution_count": null,
   "metadata": {},
   "outputs": [],
   "source": [
    "kmeans_kwargs = {\n",
    "    \"init\": \"random\",\n",
    "    \"n_init\": 10,\n",
    "    \"max_iter\": 300,\n",
    "    \"random_state\": 8,\n",
    "}"
   ]
  },
  {
   "cell_type": "code",
   "execution_count": null,
   "metadata": {},
   "outputs": [],
   "source": [
    "sse = []\n",
    "for k in range(1, 31):\n",
    "    clusterer = KMeans(n_clusters=k, **kmeans_kwargs)\n",
    "    clusterer.fit(saeki_fullerene_opv)\n",
    "    sse.append(clusterer.inertia_)\n",
    "\n",
    "## Find the elbow point\n",
    "kl = KneeLocator(\n",
    "    range(1, 31), sse, curve=\"convex\", direction=\"decreasing\"\n",
    ")\n",
    "\n",
    "print(\"Optimal number of clusters based on elbow method: \", kl.elbow)"
   ]
  },
  {
   "cell_type": "code",
   "execution_count": null,
   "metadata": {},
   "outputs": [],
   "source": [
    "kmeans_labels = cluster.KMeans(n_clusters=kl.elbow, **kmeans_kwargs).fit_predict(saeki_fullerene_opv)\n",
    "plt.figure(figsize=(16,9))\n",
    "\n",
    "cmap = plt.get_cmap(cmap_name)\n",
    "colors = [cmap(i/(kl.elbow - 1)) for i in range(kl.elbow)]\n",
    "\n",
    "legend_handles = []\n",
    "\n",
    "for i in range(kl.elbow):\n",
    "    legend_handles.append(Line2D([0], [0], marker='o', color='w', label=f'Cluster {i+1}', markersize=10, markerfacecolor=colors[i]))\n",
    "\n",
    "legend_handles.append(Line2D([0], [0], marker='*', color='w', label='Seeds', markersize=10, markerfacecolor='r'))\n",
    "plt.scatter(standard_embedding[:, 0], standard_embedding[:, 1], c=kmeans_labels, s=5, cmap=cmap_name);\n",
    "\n",
    "for seed in range(0,5):\n",
    "    plt.scatter(standard_embedding[seed, 0], standard_embedding[seed, 1], c='r', s=100, marker = '*')\n",
    "\n",
    "plt.legend(handles=legend_handles, title='Clusters', loc='best')\n",
    "plt.xlabel('Arbitrary Dimension x')\n",
    "plt.ylabel('Arbitrary Dimension y')"
   ]
  },
  {
   "cell_type": "markdown",
   "metadata": {},
   "source": [
    "2D UMAP visualization of the kmeans clustering performed on our dataset"
   ]
  },
  {
   "cell_type": "markdown",
   "metadata": {},
   "source": [
    "# Analyzing results"
   ]
  },
  {
   "cell_type": "code",
   "execution_count": null,
   "metadata": {},
   "outputs": [],
   "source": [
    "for i in range(0,5):\n",
    "    print(f\"seed {i} is in cluster {kmeans_labels[i]+1}\")"
   ]
  },
  {
   "cell_type": "markdown",
   "metadata": {},
   "source": [
    "Based on this we have determined our best cluster. Note: When referring to the clusters in the following graphics, I called the first one cluster 1. If we want to switch to zero based numbering we can change index_offset in the next block of code."
   ]
  },
  {
   "cell_type": "code",
   "execution_count": null,
   "metadata": {},
   "outputs": [],
   "source": [
    "best_cluster = 8\n",
    "\n",
    "# Change to 0 for zero based indexing\n",
    "index_offset = 1\n",
    "\n",
    "best_cluster += -1 * index_offset\n"
   ]
  },
  {
   "cell_type": "markdown",
   "metadata": {},
   "source": [
    "Finding the breakdown of clusters for each group of papers"
   ]
  },
  {
   "cell_type": "code",
   "execution_count": null,
   "metadata": {},
   "outputs": [],
   "source": [
    "targets = pd.DataFrame(saeki_fullerene_opv_targets)['group'].to_list()\n",
    "saeki_clusters = [0] * kl.elbow\n",
    "search_clusters = [0] * kl.elbow\n",
    "lithium_clusters = [0] * kl.elbow\n",
    "opv_stability_clusters = [0] * kl.elbow\n",
    "electrolyte_clusters = [0] * kl.elbow\n",
    "\n",
    "for i in range(5, len(targets)):\n",
    "    group = kmeans_labels[i]\n",
    "    if targets[i] == 2:\n",
    "        saeki_clusters[group] += 1\n",
    "    elif targets[i] == 5:\n",
    "        search_clusters[group] += 1\n",
    "    elif targets[i] == 1:\n",
    "        lithium_clusters[group] += 1\n",
    "    elif targets[i] == 3:\n",
    "        opv_stability_clusters[group] += 1\n",
    "    elif targets[i] == 4:\n",
    "        electrolyte_clusters[group] += 1"
   ]
  },
  {
   "cell_type": "code",
   "execution_count": null,
   "metadata": {},
   "outputs": [],
   "source": [
    "saeki_clusters"
   ]
  },
  {
   "cell_type": "code",
   "execution_count": null,
   "metadata": {},
   "outputs": [],
   "source": [
    "Counter(kmeans_labels.tolist())"
   ]
  },
  {
   "cell_type": "code",
   "execution_count": null,
   "metadata": {},
   "outputs": [],
   "source": [
    "cmap = plt.get_cmap('tab20')\n",
    "colors2 = [cmap(i/(kl.elbow - 1)) for i in range(kl.elbow)]"
   ]
  },
  {
   "cell_type": "code",
   "execution_count": null,
   "metadata": {},
   "outputs": [],
   "source": [
    "labels = list(range(index_offset,kl.elbow+index_offset))  # Labels for each segment\n",
    "explode = [0] * kl.elbow\n",
    "explode[best_cluster] = .05\n",
    "# Create the pie chart\n",
    "plt.figure(figsize=(10, 8))  # Optional: specify the size of the figure\n",
    "wedges, texts, autotexts = plt.pie(saeki_clusters, explode=explode, autopct='%1.1f', startangle=140, colors = colors2, pctdistance=1.1)\n",
    "plt.legend(labels, title=\"Categories\", loc=\"center left\", bbox_to_anchor=(1, 0, 0.5, 1))\n",
    "# Equal aspect ratio ensures that pie chart is a circle\n",
    "\n",
    "for i, a in enumerate(autotexts):\n",
    "    print(a)\n",
    "    if float(a.get_text()) < 1:  # Show percentage only if slice is small\n",
    "        a.set_text('')\n",
    "    else:\n",
    "        a.set_text(f'{a.get_text()}%')\n",
    "plt.axis('equal')\n",
    "\n",
    "# Show the plot\n",
    "plt.title('Clusters of Saekis dataset', pad=50)\n",
    "plt.show()"
   ]
  },
  {
   "cell_type": "code",
   "execution_count": null,
   "metadata": {},
   "outputs": [],
   "source": [
    "\n",
    "data =  [saeki_clusters[best_cluster],search_clusters[best_cluster],lithium_clusters[best_cluster],opv_stability_clusters[best_cluster],electrolyte_clusters[best_cluster]]\n",
    "labels = ['Saeki','Polymer Based Solar Cell', 'Lithium Batteries', 'OPV Stability and Degradation', 'Electrolytes']  # Labels for each segment\n",
    "\n",
    "#data =  [saeki_clusters[best_cluster],lithium_clusters[best_cluster],opv_stability_clusters[best_cluster],electrolyte_clusters[best_cluster]]\n",
    "#labels = ['Saeki', 'Lithium Batteries', 'OPV Stability and Degradation', 'Electrolytes']  # Labels for each segment\n",
    "\n",
    "# Create the pie chart\n",
    "plt.figure(figsize=(10, 8))  # Optional: specify the size of the figure\n",
    "wedges, texts, autotexts = plt.pie(data, autopct='%1.1f', pctdistance=1.1, startangle=140)\n",
    "for i, a in enumerate(autotexts):\n",
    "    print(a)\n",
    "    if float(a.get_text()) < .1:  # Show percentage only if slice is small\n",
    "        a.set_text('')\n",
    "    else:\n",
    "        a.set_text(f'{a.get_text()}%')\n",
    "\n",
    "plt.legend(labels, title=\"Categories\", loc=\"center left\", bbox_to_anchor=(1, 0, 0.5, 1))\n",
    "# Equal aspect ratio ensures that pie chart is a circle\n",
    "plt.axis('equal')\n",
    "\n",
    "# Show the plot\n",
    "plt.title(f'Cluster {best_cluster+index_offset}', pad=50)\n",
    "plt.show()"
   ]
  },
  {
   "cell_type": "code",
   "execution_count": null,
   "metadata": {},
   "outputs": [],
   "source": [
    "# let's take a look at what silhouette analysis looks like:\n",
    "from sklearn.metrics import silhouette_samples, silhouette_score\n",
    "import matplotlib.cm as cm\n",
    "\n",
    "X = saeki_fullerene_opv\n",
    "n_clusters = kl.elbow\n",
    "#kmeans = KMeans(n_clusters=n_clusters , **kmeans_kwargs)\n",
    "#kmeans.fit(saeki_fullerene_opv)\n",
    "cluster_labels = kmeans_labels\n",
    "score = silhouette_score(saeki_fullerene_opv, cluster_labels)\n",
    "\n",
    "\n",
    "# Create a subplot with 1 row and 2 columns\n",
    "fig, (ax1) = plt.subplots(1, 1)\n",
    "fig.set_size_inches(12, 7)\n",
    "\n",
    "# The 1st subplot is the silhouette plot\n",
    "# The silhouette coefficient can range from -1, 1 but in this example all\n",
    "# lie within [-0.1, 1]\n",
    "ax1.set_xlim(-0.1, .5)\n",
    "# The (n_clusters+1)*10 is for inserting blank space between silhouette\n",
    "# plots of individual clusters, to demarcate them clearly.\n",
    "ax1.set_ylim([0, len(saeki_fullerene_opv) + (n_clusters + 1) * 10])\n",
    "\n",
    "\n",
    "# The silhouette_score gives the average value for all the samples.\n",
    "# This gives a perspective into the density and separation of the formed\n",
    "# clusters\n",
    "silhouette_avg = silhouette_score(saeki_fullerene_opv, cluster_labels)\n",
    "print(\"For n_clusters =\", n_clusters,\n",
    "    \"The average silhouette_score is :\", silhouette_avg)\n",
    "\n",
    "# Compute the silhouette scores for each sample\n",
    "sample_silhouette_values = silhouette_samples(saeki_fullerene_opv, cluster_labels)\n",
    "\n",
    "y_lower = 10\n",
    "    \n",
    "for i in range(n_clusters):\n",
    "    # Aggregate the silhouette scores for samples belonging to\n",
    "    # cluster i, and sort them\n",
    "    ith_cluster_silhouette_values = \\\n",
    "        sample_silhouette_values[cluster_labels == i]\n",
    "\n",
    "    ith_cluster_silhouette_values.sort()\n",
    "\n",
    "    size_cluster_i = ith_cluster_silhouette_values.shape[0]\n",
    "    y_upper = y_lower + size_cluster_i\n",
    "    color = cmap(float(i) / n_clusters)\n",
    "    ax1.fill_betweenx(np.arange(y_lower, y_upper),\n",
    "                      0, ith_cluster_silhouette_values,\n",
    "                      facecolor=color, edgecolor=color, alpha=1)\n",
    "\n",
    "    # Label the silhouette plots with their cluster numbers at the middle\n",
    "    ax1.text(-0.05, y_lower + 0.5 * size_cluster_i, str(i+index_offset))\n",
    "\n",
    "    # Compute the new y_lower for next plot\n",
    "    y_lower = y_upper + 10  # 10 for the 0 samples\n",
    "\n",
    "ax1.set_xlabel(\"Silhouette coefficient value\")\n",
    "ax1.set_ylabel(\"Cluster label\")\n",
    "\n",
    "# The vertical line for average silhouette score of all the values\n",
    "ax1.axvline(x=silhouette_avg, color=\"red\", linestyle=\"--\")\n",
    "\n",
    "ax1.set_yticks([])  # Clear the yaxis labels / ticks\n",
    "ax1.set_xticks([-0.1,0, 0.1, 0.2, 0.3, 0.4, 0.5])\n"
   ]
  },
  {
   "cell_type": "code",
   "execution_count": null,
   "metadata": {},
   "outputs": [],
   "source": [
    "labels = list(range(index_offset,kl.elbow+index_offset))  # Labels for each segment\n",
    "explode = [0] * kl.elbow\n",
    "#explode[2] = .05\n",
    "# Create the pie chart\n",
    "plt.figure(figsize=(10, 8))  # Optional: specify the size of the figure\n",
    "wedges, texts, autotexts = plt.pie(lithium_clusters, explode=explode, autopct='%1.1f', startangle=140, colors = colors2, pctdistance=1.1)\n",
    "plt.legend(labels, title=\"Categories\", loc=\"center left\", bbox_to_anchor=(1, 0, 0.5, 1))\n",
    "# Equal aspect ratio ensures that pie chart is a circle\n",
    "for i, a in enumerate(autotexts):\n",
    "    print(a)\n",
    "    if float(a.get_text()) < 1:  # Show percentage only if slice is small\n",
    "        a.set_text('')\n",
    "    else:\n",
    "        a.set_text(f'{a.get_text()}%')\n",
    "plt.axis('equal')\n",
    "\n",
    "# Show the plot\n",
    "plt.title('Clusters of Lithium Battery search results', pad=50)\n",
    "plt.show()"
   ]
  },
  {
   "cell_type": "code",
   "execution_count": null,
   "metadata": {},
   "outputs": [],
   "source": [
    "clust = 9\n",
    "clust += -1 * index_offset\n",
    "data =  [saeki_clusters[clust],search_clusters[clust],lithium_clusters[clust],opv_stability_clusters[clust],electrolyte_clusters[clust]]\n",
    "labels = ['Saeki','Polymer Based Solar Cell', 'Lithium Batteries', 'OPV Stability and Degradation', 'Electrolytes']  # Labels for each segment\n",
    "\n",
    "#data =  [saeki_clusters[best_cluster],lithium_clusters[best_cluster],opv_stability_clusters[best_cluster],electrolyte_clusters[best_cluster]]\n",
    "#labels = ['Saeki', 'Lithium Batteries', 'OPV Stability and Degradation', 'Electrolytes']  # Labels for each segment\n",
    "\n",
    "# Create the pie chart\n",
    "plt.figure(figsize=(10, 8))  # Optional: specify the size of the figure\n",
    "wedges, texts, autotexts = plt.pie(data, autopct='%1.1f', pctdistance=1.1, startangle=140)\n",
    "for i, a in enumerate(autotexts):\n",
    "    print(a)\n",
    "    if float(a.get_text()) < .1:  # Show percentage only if slice is small\n",
    "        a.set_text('')\n",
    "    else:\n",
    "        a.set_text(f'{a.get_text()}%')\n",
    "\n",
    "plt.legend(labels, title=\"Categories\", loc=\"center left\", bbox_to_anchor=(1, 0, 0.5, 1))\n",
    "# Equal aspect ratio ensures that pie chart is a circle\n",
    "plt.axis('equal')\n",
    "\n",
    "# Show the plot\n",
    "plt.title(f'Cluster {clust+index_offset}', pad = 50)\n",
    "plt.show()"
   ]
  },
  {
   "cell_type": "code",
   "execution_count": null,
   "metadata": {},
   "outputs": [],
   "source": []
  }
 ],
 "metadata": {
  "kernelspec": {
   "display_name": "Python 3",
   "language": "python",
   "name": "python3"
  },
  "language_info": {
   "codemirror_mode": {
    "name": "ipython",
    "version": 3
   },
   "file_extension": ".py",
   "mimetype": "text/x-python",
   "name": "python",
   "nbconvert_exporter": "python",
   "pygments_lexer": "ipython3",
   "version": "3.12.7"
  }
 },
 "nbformat": 4,
 "nbformat_minor": 2
}
