{
 "cells": [
  {
   "cell_type": "markdown",
   "id": "59b1d1bb-004b-40d3-931c-cc688ccc833f",
   "metadata": {},
   "source": [
    "# Imports and Helper Functions"
   ]
  },
  {
   "cell_type": "code",
   "execution_count": null,
   "id": "7b6bb08a",
   "metadata": {},
   "outputs": [],
   "source": [
    "import pandas as pd\n",
    "import numpy as np\n",
    "import random\n",
    "import umap\n",
    "import matplotlib.pyplot as plt\n",
    "from scipy.spatial import distance\n",
    "from sklearn.preprocessing import StandardScaler\n",
    "\n",
    "import sys\n",
    "import os\n",
    "sys.path.append(os.path.abspath('../aipowerdatasetconstruction/'))\n",
    "\n",
    "from bert_util import make_embeddings_in_batch\n",
    "from transformers import BertTokenizer, BertModel"
   ]
  },
  {
   "cell_type": "code",
   "execution_count": null,
   "id": "ed0d2f0a-9399-4c74-b44c-cb9fb1ace876",
   "metadata": {},
   "outputs": [],
   "source": [
    "n_abstract_per_batch = 20\n",
    "tokenizer = BertTokenizer.from_pretrained(\"allenai/scibert_scivocab_uncased\", do_lower_case=True)   # import the models\n",
    "# max token size is 512\n",
    "model = BertModel.from_pretrained(\"allenai/scibert_scivocab_uncased\")\n",
    "\n",
    "# input file must have a column called Abstract\n",
    "def make_embeding_with_file(input_file, output_file):\n",
    "    input = pd.read_csv(input_file, encoding = \"ISO-8859-1\")\n",
    "    embedding_tensor = make_embeddings_in_batch(input['Abstract'], n_abstract_per_batch, model, tokenizer)\n",
    "    output = pd.concat([input, pd.DataFrame(embedding_tensor)], axis=1)\n",
    "    output.to_csv(output_file, encoding = \"ISO-8859-1\")\n",
    "\n",
    "def read_df_with_embedding(file):\n",
    "    df = pd.read_csv(file, encoding = \"ISO-8859-1\")\n",
    "    df = df.rename(columns={str(i): i for i in range(768)})\n",
    "    for i in range(768):\n",
    "        df[i] = df[i].astype(float)\n",
    "    return df\n",
    "\n",
    "def compute_center(df):\n",
    "    return df[list(range(768))].mean().to_numpy()\n",
    "    \n",
    "def compute_euclidean_distances(center, df):\n",
    "    return [distance.euclidean(center, df.iloc[i, :][list(range(768))].to_numpy()) for i in range(df.shape[0])]\n",
    "\n",
    "def relevance_category(d, max_d):\n",
    "    if d <= 2 * max_d: return 'relevant'\n",
    "    else: return 'less relevant'\n",
    "\n",
    "def compute_relevancies(center, max_d, df):\n",
    "    distances = compute_euclidean_distances(center, df)\n",
    "    r_cat = [relevance_category(d, max_d) for d in distances] \n",
    "    return pd.concat([pd.DataFrame({'distance': distances, 'relevance category': r_cat}), df], axis=1)\n",
    "\n",
    "def umap_reduce_dimensions(x):\n",
    "    return umap.UMAP(\n",
    "        n_neighbors=30,\n",
    "        min_dist=0.1,\n",
    "        n_components=2,\n",
    "        random_state=47,\n",
    "    ).fit_transform(StandardScaler().fit_transform(x))\n",
    "\n",
    "def generate_plot_df_with_reduced_dimensions(df_map):\n",
    "    dfs = []\n",
    "    for source, df in df_map.items():\n",
    "        dfs.append(pd.concat([df, pd.DataFrame([source] * df.shape[0], columns=['Source'])], axis=1))\n",
    "    plot_df = pd.concat(dfs, axis=0)\n",
    "    red_dim = umap_reduce_dimensions(plot_df[list(range(768))])\n",
    "    red_dim_df = pd.DataFrame(red_dim, columns=['x', 'y'], index=plot_df.index)\n",
    "    return pd.concat([plot_df, red_dim_df], axis=1)\n",
    "\n",
    "def plot_clusters(plot_df, ax):\n",
    "    c = 0\n",
    "    for source in plot_df['Source'].unique():\n",
    "        df = plot_df[plot_df['Source'] == source][['x', 'y']]\n",
    "        ax.scatter(x=df['x'], y=df['y'], marker='o', s=50, c=f'C{c}', label=source, alpha=0.7)\n",
    "        c += 1\n",
    "    ax.legend(loc='best', fontsize=20)\n",
    "    ax.set_xlabel('arbitrary dimension x', fontsize=20)\n",
    "    ax.set_ylabel('arbitrary dimension y', fontsize=20)\n",
    "    ax.tick_params(axis='both', labelsize=20)"
   ]
  },
  {
   "cell_type": "markdown",
   "id": "55b0b95a-eac7-44fe-a898-cd9fe9fbc64b",
   "metadata": {},
   "source": [
    "# Make Embedings"
   ]
  },
  {
   "cell_type": "code",
   "execution_count": null,
   "id": "c26b70de-bc61-4157-86a6-1726f7c7f906",
   "metadata": {},
   "outputs": [],
   "source": [
    "input_file = \"../data/Saeki_with_abstract.csv\"\n",
    "output_file = \"../data/Saeki_with_abstract_and_embedding.csv\"\n",
    "make_embeding_with_file(input_file, output_file)"
   ]
  },
  {
   "cell_type": "code",
   "execution_count": null,
   "id": "d8b0d136-2bd9-4e22-9041-8bb2cdd65c51",
   "metadata": {},
   "outputs": [],
   "source": [
    "input_file = \"../data/search_results_OPV.csv\"\n",
    "output_file = \"../data/search_results_OPV_with_embedding.csv\"\n",
    "make_embeding_with_file(input_file, output_file)"
   ]
  },
  {
   "cell_type": "code",
   "execution_count": null,
   "id": "f415cdcb-b210-43a3-b868-278ea3336fd4",
   "metadata": {},
   "outputs": [],
   "source": [
    "input_file = \"../data/search_results_lithium_batteries.csv\"\n",
    "output_file = \"../data/search_results_lithium_batteries_with_embedding.csv\"\n",
    "make_embeding_with_file(input_file, output_file)"
   ]
  },
  {
   "cell_type": "code",
   "execution_count": null,
   "id": "be24a0f5-94f3-4818-92bb-a22d9032c499",
   "metadata": {},
   "outputs": [],
   "source": [
    "input_file = \"../data/search_results_fullerene_polymer_synthesis.csv\"\n",
    "output_file = \"../data/search_results_fullerene_polymer_synthesis_with_embedding.csv\"\n",
    "make_embeding_with_file(input_file, output_file)"
   ]
  },
  {
   "cell_type": "code",
   "execution_count": null,
   "id": "25e2c80a-1b95-47e4-a755-40d75267ca91",
   "metadata": {},
   "outputs": [],
   "source": [
    "input_file = \"../data/search_results_OLED.csv\"\n",
    "output_file = \"../data/search_results_OLED_with_embedding.csv\"\n",
    "make_embeding_with_file(input_file, output_file)"
   ]
  },
  {
   "cell_type": "code",
   "execution_count": null,
   "id": "925ac189-1b07-4514-9042-6f241e96aedb",
   "metadata": {},
   "outputs": [],
   "source": [
    "input_file = \"../data/fullerene_OPV_with_abstract.csv\"\n",
    "output_file = \"../data/fullerene_OPV_with_abstract_and_embedding.csv\"\n",
    "make_embeding_with_file(input_file, output_file)"
   ]
  },
  {
   "cell_type": "code",
   "execution_count": null,
   "id": "a61501fe-dc2d-4257-8b6f-eedaa5e5b309",
   "metadata": {},
   "outputs": [],
   "source": [
    "nonfullerene_OPV = pd.read_csv(\"../data/Nonfullerene_OPV_Abstract.csv\", encoding = \"ISO-8859-1\")\n",
    "abstract_dict = nonfullerene_OPV[['DOI', 'Abstract']].set_index('DOI').to_dict()['Abstract']\n",
    "nonfullerene_OPV_df = pd.DataFrame({'DOI': abstract_dict.keys(), 'Abstract': abstract_dict.values()})\n",
    "nonfullerene_OPV_df = nonfullerene_OPV_df[nonfullerene_OPV_df['Abstract'].notnull()].reset_index(drop=True)\n",
    "nonfullerene_OPV_df.to_csv(\"../data/Nonfullerene_OPV_Abstract_cleaned.csv\", encoding = \"ISO-8859-1\")\n",
    "nonfullerene_OPV_df.head(), nonfullerene_OPV_df.shape"
   ]
  },
  {
   "cell_type": "code",
   "execution_count": null,
   "id": "dc8c7f13-a4f7-48ba-ae9d-508d5842c91d",
   "metadata": {},
   "outputs": [],
   "source": [
    "input_file = \"../data/Nonfullerene_OPV_Abstract_cleaned.csv\"\n",
    "output_file = \"../data/nonfullerene_OPV_with_abstract_and_embedding.csv\"\n",
    "make_embeding_with_file(input_file, output_file)"
   ]
  },
  {
   "cell_type": "code",
   "execution_count": null,
   "id": "a08e3cf3-8653-4872-ae4e-79abf55cce88",
   "metadata": {},
   "outputs": [],
   "source": [
    "input_file = \"../data/search_results_OPV_Stability_and_Degradation.csv\"\n",
    "output_file = \"../data/search_results_OPV_Stability_and_Degradation_with_embedding.csv\"\n",
    "make_embeding_with_file(input_file, output_file)"
   ]
  },
  {
   "cell_type": "code",
   "execution_count": null,
   "id": "e4d94857-5f8d-48c5-abce-bf2d811db96d",
   "metadata": {},
   "outputs": [],
   "source": [
    "input_file = \"../data/search_results_OPV_Morphology_Control.csv\"\n",
    "output_file = \"../data/search_results_OPV_Morphology_Control_with_embedding.csv\"\n",
    "make_embeding_with_file(input_file, output_file)"
   ]
  },
  {
   "cell_type": "code",
   "execution_count": null,
   "id": "0cadbbfb-3226-4c89-b553-05789222b30b",
   "metadata": {},
   "outputs": [],
   "source": [
    "input_file = \"../data/search_results_OPV_Fullerene_Donor.csv\"\n",
    "output_file = \"../data/search_results_OPV_Fullerene_Donor_with_embedding.csv\"\n",
    "make_embeding_with_file(input_file, output_file)"
   ]
  },
  {
   "cell_type": "markdown",
   "id": "b9bede15-194b-4a6e-81a0-55f44c906588",
   "metadata": {},
   "source": [
    "# Random Seed Article Distance"
   ]
  },
  {
   "cell_type": "code",
   "execution_count": null,
   "id": "d69dd0e0-6bf0-4edd-a02d-5034187033bd",
   "metadata": {},
   "outputs": [],
   "source": [
    "Saeki_fullerene_OPV = read_df_with_embedding(\"../data/fullerene_OPV_with_abstract_and_embedding.csv\")    \n",
    "Saeki_fullerene_OPV_dois = Saeki_fullerene_OPV['DOI'].to_numpy()\n",
    "\n",
    "n_sampling = 1000\n",
    "Saeki_fullerene_OPV_centers = []\n",
    "Saeki_fullerene_OPV_max_distances = []\n",
    "\n",
    "for i in range(n_sampling):\n",
    "    selected_dois = set(Saeki_fullerene_OPV_dois[random.sample(range(len(Saeki_fullerene_OPV_dois)), 5)])\n",
    "    seeds = Saeki_fullerene_OPV[pd.Series([doi in selected_dois for doi in Saeki_fullerene_OPV_dois])]\n",
    "    seeds_center = compute_center(seeds)\n",
    "    distances = compute_euclidean_distances(seeds_center, seeds)\n",
    "    Saeki_fullerene_OPV_centers.append(seeds_center)\n",
    "    Saeki_fullerene_OPV_max_distances.append(np.max(distances))"
   ]
  },
  {
   "cell_type": "code",
   "execution_count": null,
   "id": "87078e62-2962-4105-90a7-024692a16612",
   "metadata": {},
   "outputs": [],
   "source": [
    "Saeki_fullerene_OPV_centers_avg = np.average(np.array(Saeki_fullerene_OPV_centers), axis=0)\n",
    "Saeki_fullerene_OPV_max_distances_avg = np.average(np.array(Saeki_fullerene_OPV_max_distances))\n",
    "Saeki_fullerene_OPV_max_distances_std = np.std(Saeki_fullerene_OPV_max_distances)\n",
    "Saeki_fullerene_OPV_max_distances_avg, Saeki_fullerene_OPV_max_distances_std"
   ]
  },
  {
   "cell_type": "code",
   "execution_count": null,
   "id": "0c99f89b-97d6-452b-96ab-b5e3ab6dbf1c",
   "metadata": {},
   "outputs": [],
   "source": [
    "Saeki_nonfullerene_OPV = read_df_with_embedding(\"../data/nonfullerene_OPV_with_abstract_and_embedding.csv\")\n",
    "Saeki_nonfullerene_OPV_dois = Saeki_nonfullerene_OPV['DOI'].to_numpy()\n",
    "\n",
    "n_sampling = 1000\n",
    "Saeki_nonfullerene_OPV_centers = []\n",
    "Saeki_nonfullerene_OPV_max_distances = []\n",
    "\n",
    "for i in range(n_sampling):\n",
    "    selected_dois = set(Saeki_nonfullerene_OPV_dois[random.sample(range(len(Saeki_nonfullerene_OPV_dois)), 5)])\n",
    "    seeds = Saeki_nonfullerene_OPV[pd.Series([doi in selected_dois for doi in Saeki_nonfullerene_OPV_dois])]\n",
    "    seeds_center = compute_center(seeds)\n",
    "    distances = compute_euclidean_distances(seeds_center, seeds)\n",
    "    Saeki_nonfullerene_OPV_centers.append(seeds_center)\n",
    "    Saeki_nonfullerene_OPV_max_distances.append(np.max(distances))"
   ]
  },
  {
   "cell_type": "code",
   "execution_count": null,
   "id": "d1853f89-9d1e-4e7d-8df1-5a6fb2ddad77",
   "metadata": {},
   "outputs": [],
   "source": [
    "Saeki_nonfullerene_OPV_centers_avg = np.average(np.array(Saeki_nonfullerene_OPV_centers), axis=0)\n",
    "Saeki_nonfullerene_OPV_max_distances_avg = np.average(np.array(Saeki_nonfullerene_OPV_max_distances))\n",
    "Saeki_nonfullerene_OPV_max_distances_std = np.std(Saeki_nonfullerene_OPV_max_distances)\n",
    "Saeki_nonfullerene_OPV_max_distances_avg, Saeki_nonfullerene_OPV_max_distances_std"
   ]
  },
  {
   "cell_type": "code",
   "execution_count": null,
   "id": "bba38f92-ad80-4467-866d-6afcada51c57",
   "metadata": {},
   "outputs": [],
   "source": [
    "distance.euclidean(Saeki_fullerene_OPV_centers_avg, Saeki_nonfullerene_OPV_centers_avg)"
   ]
  },
  {
   "cell_type": "markdown",
   "id": "b88e7116-0300-499c-a70e-d6f1e2e041d5",
   "metadata": {},
   "source": [
    "# Select Random Seed Articles"
   ]
  },
  {
   "cell_type": "code",
   "execution_count": null,
   "id": "a88bbae2-96e3-40e8-9119-78e6b16a7bd5",
   "metadata": {},
   "outputs": [],
   "source": [
    "Saeki_fullerene_OPV = pd.read_csv(\"../data/fullerene_OPV_with_abstract_and_embedding.csv\", encoding = \"ISO-8859-1\")\n",
    "Saeki_fullerene_OPV_dois = Saeki_fullerene_OPV['DOI'].to_numpy()\n",
    "selected_dois = set(Saeki_fullerene_OPV_dois[random.sample(range(len(Saeki_fullerene_OPV_dois)), 5)])\n",
    "selected_dois"
   ]
  },
  {
   "cell_type": "code",
   "execution_count": null,
   "id": "37c1dd85-d360-4d43-8072-33e93b88a728",
   "metadata": {},
   "outputs": [],
   "source": [
    "seeds_Saeki = Saeki_fullerene_OPV[pd.Series([doi in selected_dois for doi in Saeki_fullerene_OPV_dois])]\n",
    "seeds_Saeki.to_csv(\"../data/seeds_Saeki_fullerene_OPV_with_abstract_and_embedding.csv\", encoding = \"ISO-8859-1\")\n",
    "other_Saeki = Saeki_fullerene_OPV[pd.Series([doi not in selected_dois for doi in Saeki_fullerene_OPV_dois])]\n",
    "other_Saeki.to_csv(\"../data/other_Saeki_fullerene_OPV_with_abstract_and_embedding.csv\", encoding = \"ISO-8859-1\")"
   ]
  },
  {
   "cell_type": "markdown",
   "id": "d57dbbd1-6f5b-4150-a3c9-139066b53b7b",
   "metadata": {},
   "source": [
    "# Compute relevance based on euclidean distances"
   ]
  },
  {
   "cell_type": "code",
   "execution_count": null,
   "id": "8ba6a982-3ebc-4dae-b448-4be6ed95e1e7",
   "metadata": {},
   "outputs": [],
   "source": [
    "seeds_Saeki = read_df_with_embedding(\"../data/seeds_Saeki_fullerene_OPV_with_abstract_and_embedding.csv\")\n",
    "seeds_center = compute_center(seeds_Saeki)\n",
    "distances = compute_euclidean_distances(seeds_center, seeds_Saeki)\n",
    "max_d = np.max(distances)\n",
    "max_d, distances"
   ]
  },
  {
   "cell_type": "code",
   "execution_count": null,
   "id": "d9a83b79-18d3-470b-8582-faa50472ba28",
   "metadata": {},
   "outputs": [],
   "source": [
    "other_Saeki = read_df_with_embedding(\"../data/other_Saeki_fullerene_OPV_with_abstract_and_embedding.csv\")\n",
    "other_Saeki = compute_relevancies(seeds_center, max_d, other_Saeki)\n",
    "other_Saeki['relevance category'].value_counts()"
   ]
  },
  {
   "cell_type": "code",
   "execution_count": null,
   "id": "9ae3b210-aa17-42e7-b59c-d4304c61b3ab",
   "metadata": {},
   "outputs": [],
   "source": [
    "search_results_OPV = read_df_with_embedding(\"../data/search_results_OPV_with_embedding.csv\")\n",
    "search_results_OPV = compute_relevancies(seeds_center, max_d, search_results_OPV)\n",
    "search_results_OPV['relevance category'].value_counts()"
   ]
  },
  {
   "cell_type": "code",
   "execution_count": null,
   "id": "09dfa3cd-ecc8-4804-a3a3-e6db1eafdd42",
   "metadata": {},
   "outputs": [],
   "source": [
    "search_results_OLED = read_df_with_embedding(\"../data/search_results_OLED_with_embedding.csv\")\n",
    "search_results_OLED = compute_relevancies(seeds_center, max_d, search_results_OLED)\n",
    "search_results_OLED['relevance category'].value_counts()"
   ]
  },
  {
   "cell_type": "code",
   "execution_count": null,
   "id": "86d5ec00-c187-47b3-a940-e95ab23dd766",
   "metadata": {},
   "outputs": [],
   "source": [
    "Saeki_nonfullerene_OPV = read_df_with_embedding(\"../data/nonfullerene_OPV_with_abstract_and_embedding.csv\")\n",
    "Saeki_nonfullerene_OPV = compute_relevancies(seeds_center, max_d, Saeki_nonfullerene_OPV)\n",
    "Saeki_nonfullerene_OPV['relevance category'].value_counts()"
   ]
  },
  {
   "cell_type": "code",
   "execution_count": null,
   "id": "68cccd64-8931-4501-beeb-c33ba2938383",
   "metadata": {},
   "outputs": [],
   "source": [
    "search_results_fullerene_polymer_synthesis = read_df_with_embedding(\"../data/search_results_fullerene_polymer_synthesis_with_embedding.csv\")\n",
    "search_results_fullerene_polymer_synthesis = compute_relevancies(seeds_center, max_d, search_results_fullerene_polymer_synthesis)\n",
    "search_results_fullerene_polymer_synthesis['relevance category'].value_counts()"
   ]
  },
  {
   "cell_type": "code",
   "execution_count": null,
   "id": "247aadbf-f2f3-4d14-97c4-985f48c1905e",
   "metadata": {},
   "outputs": [],
   "source": [
    "search_results_lithium_batteries = read_df_with_embedding(\"../data/search_results_lithium_batteries_with_embedding.csv\")\n",
    "search_results_lithium_batteries = compute_relevancies(seeds_center, max_d, search_results_lithium_batteries)\n",
    "search_results_lithium_batteries['relevance category'].value_counts()"
   ]
  },
  {
   "cell_type": "code",
   "execution_count": null,
   "id": "09b362b8-f8f5-47a5-a546-039f79365ca1",
   "metadata": {},
   "outputs": [],
   "source": [
    "search_results_OPV = read_df_with_embedding(\"../data/search_results_OPV_with_embedding.csv\")\n",
    "search_results_OPV = compute_relevancies(seeds_center, max_d, search_results_OPV)\n",
    "search_results_OPV['relevance category'].value_counts()"
   ]
  },
  {
   "cell_type": "code",
   "execution_count": null,
   "id": "17a286ac-2eb5-4412-9f89-66eacd0a2ae9",
   "metadata": {},
   "outputs": [],
   "source": [
    "search_results_OPV_Stability_and_Degradation = read_df_with_embedding(\"../data/search_results_OPV_Stability_and_Degradation_with_embedding.csv\")\n",
    "search_results_OPV_Stability_and_Degradation = compute_relevancies(seeds_center, max_d, search_results_OPV_Stability_and_Degradation)\n",
    "search_results_OPV_Stability_and_Degradation['relevance category'].value_counts()"
   ]
  },
  {
   "cell_type": "code",
   "execution_count": null,
   "id": "50c5a068-6970-47da-be5a-1654a5bb3912",
   "metadata": {},
   "outputs": [],
   "source": [
    "search_results_OPV_Morphology_Control = read_df_with_embedding(\"../data/search_results_OPV_Morphology_Control_with_embedding.csv\")\n",
    "search_results_OPV_Morphology_Control = compute_relevancies(seeds_center, max_d, search_results_OPV_Morphology_Control)\n",
    "search_results_OPV_Morphology_Control['relevance category'].value_counts()"
   ]
  },
  {
   "cell_type": "markdown",
   "id": "001c6089-0963-4554-999b-dc7ea939e8bc",
   "metadata": {},
   "source": [
    "# Plots"
   ]
  },
  {
   "cell_type": "code",
   "execution_count": null,
   "id": "75dcf67e-7cc0-4569-9880-9e2fc7f0fb92",
   "metadata": {},
   "outputs": [],
   "source": [
    "seeds_center_df = pd.DataFrame(seeds_center)\n",
    "plot_df = generate_plot_df_with_reduced_dimensions({\n",
    "    'Seed Centroid': seeds_center_df.T,\n",
    "    'Seed': seeds_Saeki,\n",
    "    'Benchmark': other_Saeki,\n",
    "    'API': search_results_OPV,\n",
    "})\n",
    "plot_df.shape"
   ]
  },
  {
   "cell_type": "code",
   "execution_count": null,
   "id": "8ef82b60-2426-4061-8846-45fadd18daca",
   "metadata": {},
   "outputs": [],
   "source": [
    "seed_plot_df = plot_df[plot_df['Source'] == 'Seed'][['x', 'y']]\n",
    "seeds_center_df =  plot_df[plot_df['Source'] == 'Seed Centroid'][['x', 'y']]\n",
    "other_plot_df = plot_df[plot_df['Source'] == 'Benchmark'][['x', 'y', 'relevance category']]\n",
    "other_plot_df_rel = other_plot_df[other_plot_df['relevance category'] == 'relevant'][['x', 'y']]\n",
    "api_plot_df = plot_df[plot_df['Source'] == 'API'][['x', 'y', 'relevance category']]\n",
    "api_plot_df_rel = api_plot_df[api_plot_df['relevance category'] == 'relevant'][['x', 'y']]\n",
    "api_plot_df_less = api_plot_df[api_plot_df['relevance category'] == 'less relevant'][['x', 'y']]"
   ]
  },
  {
   "cell_type": "code",
   "execution_count": null,
   "id": "ca7aed99-55f2-429a-b02b-b48dc1fdf5e9",
   "metadata": {},
   "outputs": [],
   "source": [
    "fig, ax = plt.subplots(1, 1, figsize=(16, 9))\n",
    "\n",
    "ax.scatter(x=api_plot_df_less['x'], y=api_plot_df_less['y'], marker='o', s=30, c='C0', label='API: less relevant', alpha=0.7)\n",
    "ax.scatter(x=api_plot_df_rel['x'], y=api_plot_df_rel['y'], marker='o', s=30, c='C1', label='API: relevant', alpha=0.7)\n",
    "ax.scatter(x=other_plot_df_rel['x'], y=other_plot_df_rel['y'], marker='*', s=150, c='C1', label='Benchmark: relevant', alpha=0.7)\n",
    "ax.scatter(x=seed_plot_df['x'], y=seed_plot_df['y'], marker='X', s=200, c='C7', label='Seed', alpha=1.0)\n",
    "ax.scatter(x=seeds_center_df['x'], y=seeds_center_df['y'], marker='X', s=200, c='C3', label='Seed Centroid', alpha=1.0)\n",
    "\n",
    "ax.legend(loc='best', fontsize=20)\n",
    "ax.set_xlabel('arbitrary dimension x', fontsize=20)\n",
    "ax.set_ylabel('arbitrary dimension y', fontsize=20)\n",
    "ax.tick_params(axis='both', labelsize=20)\n",
    "\n",
    "plt.savefig('../plots/scibert_plot.png', bbox_inches='tight')"
   ]
  },
  {
   "cell_type": "code",
   "execution_count": null,
   "id": "1dbe5e4d",
   "metadata": {},
   "outputs": [],
   "source": [
    "api_plot_df = plot_df[plot_df['Source'] == 'API'][['x', 'y', 'relevance category', 'DOI', 'Title', 'Abstract']]\n",
    "api_plot_df_less = api_plot_df[api_plot_df['relevance category'] == 'less relevant']\n",
    "api_plot_df_less = api_plot_df_less[api_plot_df_less['x'] < 0]\n",
    "api_plot_df_less = api_plot_df_less[api_plot_df_less['y'] < 0]\n",
    "api_plot_df_less"
   ]
  },
  {
   "cell_type": "markdown",
   "id": "b5b610f9-b6d8-4253-9a12-e2b809419847",
   "metadata": {},
   "source": [
    "# Experiment with different datasets"
   ]
  },
  {
   "cell_type": "code",
   "execution_count": null,
   "id": "35c52377-8e84-4433-a796-85f21c3dc971",
   "metadata": {},
   "outputs": [],
   "source": [
    "plot_df = generate_plot_df_with_reduced_dimensions({\n",
    "    'Saeki Fullerene OPV': read_df_with_embedding(\"../data/fullerene_OPV_with_abstract_and_embedding.csv\"),\n",
    "    'Saeki Nonfullerene OPV': read_df_with_embedding(\"../data/nonfullerene_OPV_with_abstract_and_embedding.csv\"),\n",
    "})\n",
    "plot_df.shape"
   ]
  },
  {
   "cell_type": "code",
   "execution_count": null,
   "id": "33782ccf-b044-4533-836d-1e3c74a58ff9",
   "metadata": {},
   "outputs": [],
   "source": [
    "fig, ax = plt.subplots(1, 1, figsize=(16, 9))\n",
    "plot_clusters(plot_df, ax)"
   ]
  },
  {
   "cell_type": "code",
   "execution_count": null,
   "id": "f63a4188-54c6-42d0-bf71-f4fd4bb7dace",
   "metadata": {},
   "outputs": [],
   "source": [
    "plot_df = generate_plot_df_with_reduced_dimensions({\n",
    "    'OPV': read_df_with_embedding(\"../data/search_results_OPV_with_embedding.csv\"),\n",
    "    'OLED': read_df_with_embedding(\"../data/search_results_OLED_with_embedding.csv\"),\n",
    "})\n",
    "plot_df.shape"
   ]
  },
  {
   "cell_type": "code",
   "execution_count": null,
   "id": "59458155-9335-4859-9a86-1c5621a181b0",
   "metadata": {},
   "outputs": [],
   "source": [
    "fig, ax = plt.subplots(1, 1, figsize=(16, 9))\n",
    "plot_clusters(plot_df, ax)"
   ]
  },
  {
   "cell_type": "code",
   "execution_count": null,
   "id": "934701bb-430e-48b7-86db-bd06bb347dc8",
   "metadata": {},
   "outputs": [],
   "source": [
    "plot_df = generate_plot_df_with_reduced_dimensions({\n",
    "    'OPV': read_df_with_embedding(\"../data/search_results_OPV_with_embedding.csv\"),\n",
    "    'Lithium Batteries': read_df_with_embedding(\"../data/search_results_lithium_batteries_with_embedding.csv\"),\n",
    "})\n",
    "plot_df.shape"
   ]
  },
  {
   "cell_type": "code",
   "execution_count": null,
   "id": "cc11d385-cfd9-450a-82e2-c141820efc88",
   "metadata": {},
   "outputs": [],
   "source": [
    "fig, ax = plt.subplots(1, 1, figsize=(16, 9))\n",
    "plot_clusters(plot_df, ax)"
   ]
  },
  {
   "cell_type": "code",
   "execution_count": null,
   "id": "9e9b0401-fdc4-4b27-a5d2-8210040de0bf",
   "metadata": {},
   "outputs": [],
   "source": [
    "plot_df = generate_plot_df_with_reduced_dimensions({\n",
    "    'OPV': read_df_with_embedding(\"../data/search_results_OPV_with_embedding.csv\"),\n",
    "    'Fullerene Polymer Synthesis': read_df_with_embedding(\"../data/search_results_fullerene_polymer_synthesis_with_embedding.csv\"),\n",
    "})\n",
    "plot_df.shape"
   ]
  },
  {
   "cell_type": "code",
   "execution_count": null,
   "id": "19108534-5dd3-4dcd-8b61-3adbc3af95c3",
   "metadata": {},
   "outputs": [],
   "source": [
    "fig, ax = plt.subplots(1, 1, figsize=(16, 9))\n",
    "plot_clusters(plot_df, ax)"
   ]
  },
  {
   "cell_type": "code",
   "execution_count": null,
   "id": "5e6de6ad-7904-4818-956b-3c548590fcff",
   "metadata": {},
   "outputs": [],
   "source": [
    "plot_df = generate_plot_df_with_reduced_dimensions({\n",
    "    'OPV': read_df_with_embedding(\"../data/search_results_OPV_with_embedding.csv\"),\n",
    "    'Fullerene Polymer Synthesis': read_df_with_embedding(\"../data/search_results_fullerene_polymer_synthesis_with_embedding.csv\"),\n",
    "    'Lithium Batteries': read_df_with_embedding(\"../data/search_results_lithium_batteries_with_embedding.csv\")\n",
    "})\n",
    "plot_df.shape"
   ]
  },
  {
   "cell_type": "code",
   "execution_count": null,
   "id": "4ba1bbbe-5818-4579-9830-585d66fbb35b",
   "metadata": {},
   "outputs": [],
   "source": [
    "fig, ax = plt.subplots(1, 1, figsize=(16, 9))\n",
    "plot_clusters(plot_df, ax)"
   ]
  },
  {
   "cell_type": "code",
   "execution_count": null,
   "id": "202404ac-cd19-497b-9e37-1fff49763975",
   "metadata": {},
   "outputs": [],
   "source": [
    "OPV_Stability_and_Degradation = read_df_with_embedding(\"../data/search_results_OPV_Stability_and_Degradation_with_embedding.csv\")\n",
    "OPV_Morphology_Control = read_df_with_embedding(\"../data/search_results_OPV_Morphology_Control_with_embedding.csv\")\n",
    "\n",
    "OPV_Stability_and_Degradation_title_set = set(OPV_Stability_and_Degradation['Title'].tolist())\n",
    "OPV_Morphology_Control_title_set = set(OPV_Morphology_Control['Title'].tolist())\n",
    "overlap = OPV_Stability_and_Degradation_title_set.intersection(OPV_Morphology_Control_title_set)\n",
    "len(OPV_Stability_and_Degradation_title_set), len(OPV_Morphology_Control_title_set), len(overlap)"
   ]
  },
  {
   "cell_type": "code",
   "execution_count": null,
   "id": "21a8194c-09e0-4bea-bb66-bc614b2fb912",
   "metadata": {},
   "outputs": [],
   "source": [
    "plot_df = generate_plot_df_with_reduced_dimensions({\n",
    "    'Saeki Fullerene OPV': read_df_with_embedding(\"../data/fullerene_OPV_with_abstract_and_embedding.csv\"),\n",
    "    'OPV Stability and Degradation': OPV_Stability_and_Degradation,\n",
    "    # 'OPV Morphology Control': OPV_Morphology_Control,\n",
    "})\n",
    "plot_df.shape"
   ]
  },
  {
   "cell_type": "code",
   "execution_count": null,
   "id": "788e4499-4bb0-4b89-8c2a-86c521e667d8",
   "metadata": {},
   "outputs": [],
   "source": [
    "fig, ax = plt.subplots(1, 1, figsize=(16, 9))\n",
    "plot_clusters(plot_df, ax)"
   ]
  },
  {
   "cell_type": "code",
   "execution_count": null,
   "id": "9a5ad9f5-a336-4eec-803a-71e1c7b6c27c",
   "metadata": {},
   "outputs": [],
   "source": [
    "plot_df = generate_plot_df_with_reduced_dimensions({\n",
    "    'Saeki Fullerene OPV': read_df_with_embedding(\"../data/fullerene_OPV_with_abstract_and_embedding.csv\"),\n",
    "    'OPV': read_df_with_embedding(\"../data/search_results_OPV_with_embedding.csv\"),\n",
    "    # 'OPV Morphology Control': OPV_Morphology_Control,\n",
    "})\n",
    "plot_df.shape"
   ]
  },
  {
   "cell_type": "code",
   "execution_count": null,
   "id": "1cf8977f-07c0-4297-a8b1-498ea1614d0d",
   "metadata": {},
   "outputs": [],
   "source": [
    "fig, ax = plt.subplots(1, 1, figsize=(16, 9))\n",
    "plot_clusters(plot_df, ax)"
   ]
  },
  {
   "cell_type": "code",
   "execution_count": null,
   "id": "8c9d1a36-efe4-4be5-bdef-eea3820094e3",
   "metadata": {},
   "outputs": [],
   "source": [
    "plot_df = generate_plot_df_with_reduced_dimensions({\n",
    "    'Saeki Benchmark': read_df_with_embedding(\"../data/fullerene_OPV_with_abstract_and_embedding.csv\"),\n",
    "    'OPV': read_df_with_embedding(\"../data/search_results_OPV_with_embedding.csv\"),\n",
    "    'OPV Fullerene Donor': read_df_with_embedding(\"../data/search_results_OPV_Fullerene_Donor_with_embedding.csv\"),\n",
    "    'Lithium Batteries': read_df_with_embedding(\"../data/search_results_lithium_batteries_with_embedding.csv\")\n",
    "})\n",
    "plot_df.shape"
   ]
  },
  {
   "cell_type": "code",
   "execution_count": null,
   "id": "fbf462d6-c1ca-4a68-bef5-36267eecf428",
   "metadata": {},
   "outputs": [],
   "source": [
    "fig, ax = plt.subplots(1, 1, figsize=(16, 9))\n",
    "plot_clusters(plot_df, ax)"
   ]
  },
  {
   "cell_type": "code",
   "execution_count": null,
   "id": "69c174c6-8bd9-43ca-9b3e-cae11ad656c3",
   "metadata": {},
   "outputs": [],
   "source": [
    "Saeki_Fullerene_OPV = plot_df[plot_df['Source'] == 'Saeki Benchmark']\n",
    "OPV = plot_df[plot_df['Source'] == 'OPV']\n",
    "OPV_Fullerene_Donor = plot_df[plot_df['Source'] == 'OPV Fullerene Donor']\n",
    "Lithium_Batteries = plot_df[plot_df['Source'] == 'Lithium Batteries']"
   ]
  },
  {
   "cell_type": "code",
   "execution_count": null,
   "id": "b574c71b-1e85-4103-bb57-834c865b0980",
   "metadata": {},
   "outputs": [],
   "source": [
    "low_dim_center = compute_center_low_dim(Saeki_Fullerene_OPV)\n",
    "distances = compute_euclidean_distances_low_dim(low_dim_center, Saeki_Fullerene_OPV)\n",
    "p90_d = np.percentile(distances, 90)\n",
    "p90_d, distances"
   ]
  },
  {
   "cell_type": "code",
   "execution_count": null,
   "id": "3190ae5b-5ed5-4736-953b-1687297484d3",
   "metadata": {},
   "outputs": [],
   "source": [
    "compute_relevancies_low_dim(low_dim_center, p90_d, OPV)['relevance category'].value_counts()"
   ]
  },
  {
   "cell_type": "code",
   "execution_count": null,
   "id": "03d11b0f-4457-4736-b79a-4b4755b0371b",
   "metadata": {},
   "outputs": [],
   "source": [
    "compute_relevancies_low_dim(low_dim_center, p90_d, OPV_Fullerene_Donor)['relevance category'].value_counts()"
   ]
  },
  {
   "cell_type": "code",
   "execution_count": null,
   "id": "dffd394b-340e-421d-b2e8-d51373bde124",
   "metadata": {},
   "outputs": [],
   "source": []
  },
  {
   "cell_type": "code",
   "execution_count": null,
   "id": "50920e56-b46c-4ef4-ae50-73095d6de2e0",
   "metadata": {},
   "outputs": [],
   "source": [
    "plot_df = generate_plot_df_with_reduced_dimensions({\n",
    "    'Saeki Benchmark': read_df_with_embedding(\"../data/fullerene_OPV_with_abstract_and_embedding.csv\"),\n",
    "    'OPV': read_df_with_embedding(\"../data/search_results_OPV_with_embedding.csv\"),\n",
    "    'OPV Stability and Degradation': read_df_with_embedding(\"../data/search_results_OPV_Stability_and_Degradation_with_embedding.csv\"),\n",
    "    'Lithium Batteries': read_df_with_embedding(\"../data/search_results_lithium_batteries_with_embedding.csv\")\n",
    "})\n",
    "plot_df.shape"
   ]
  },
  {
   "cell_type": "code",
   "execution_count": null,
   "id": "71220746-b66f-4e22-9d41-d4abe450943a",
   "metadata": {},
   "outputs": [],
   "source": [
    "plot_df.to_csv('../data/search_all_with_saeki_benchmark.csv', encoding = \"ISO-8859-1\")"
   ]
  },
  {
   "cell_type": "code",
   "execution_count": null,
   "id": "4aeaceb0-94cc-4d9e-9051-4c48478b8c65",
   "metadata": {},
   "outputs": [],
   "source": [
    "fig, ax = plt.subplots(1, 1, figsize=(16, 9))\n",
    "plot_clusters(plot_df, ax)\n",
    "plt.savefig('../plots/search_all_with_saeki_benchmark.png', bbox_inches='tight')"
   ]
  },
  {
   "cell_type": "code",
   "execution_count": null,
   "id": "d8f79078-db77-494f-978c-c7c7b1345444",
   "metadata": {},
   "outputs": [],
   "source": [
    "plot_df[plot_df['x'] < 7]['Source'].value_counts()"
   ]
  },
  {
   "cell_type": "code",
   "execution_count": null,
   "id": "19f2cb2d-92d5-4711-9142-13374ed9194b",
   "metadata": {},
   "outputs": [],
   "source": []
  },
  {
   "cell_type": "code",
   "execution_count": null,
   "id": "b8255372-0d73-470e-a7dd-3e7c7687b458",
   "metadata": {},
   "outputs": [],
   "source": [
    "Saeki_Fullerene_OPV = plot_df[plot_df['Source'] == 'Saeki Benchmark']\n",
    "OPV = plot_df[plot_df['Source'] == 'OPV']\n",
    "OPV_Stability_and_Degradation = plot_df[plot_df['Source'] == 'OPV Stability and Degradation']\n",
    "Lithium_Batteries = plot_df[plot_df['Source'] == 'Lithium Batteries']"
   ]
  },
  {
   "cell_type": "code",
   "execution_count": null,
   "id": "500930ce-a23d-48d1-b95d-60e7fb009b3e",
   "metadata": {},
   "outputs": [],
   "source": [
    "high_dim_center = compute_center(Saeki_Fullerene_OPV)\n",
    "distances = compute_euclidean_distances(high_dim_center, Saeki_Fullerene_OPV)\n",
    "p90_d = np.percentile(distances, 90)\n",
    "p90_d, distances"
   ]
  },
  {
   "cell_type": "code",
   "execution_count": null,
   "id": "fe46f899-2369-4cb1-9c84-483380847ca9",
   "metadata": {},
   "outputs": [],
   "source": [
    "compute_relevancies(high_dim_center, p90_d, Saeki_Fullerene_OPV)['relevance category'].value_counts()"
   ]
  },
  {
   "cell_type": "code",
   "execution_count": null,
   "id": "c7ada226-fc23-4454-b7c6-21f9562f57da",
   "metadata": {},
   "outputs": [],
   "source": [
    "compute_relevancies(high_dim_center, p90_d, OPV)['relevance category'].value_counts()"
   ]
  },
  {
   "cell_type": "code",
   "execution_count": null,
   "id": "13462050-8bee-4740-8d90-a81a9332ced0",
   "metadata": {},
   "outputs": [],
   "source": [
    "compute_relevancies(high_dim_center, p90_d, OPV_Stability_and_Degradation)['relevance category'].value_counts()"
   ]
  },
  {
   "cell_type": "code",
   "execution_count": null,
   "id": "e634a875-1b1a-4720-8ec8-9c1e3818a162",
   "metadata": {},
   "outputs": [],
   "source": [
    "compute_relevancies(high_dim_center, p90_d, Lithium_Batteries)['relevance category'].value_counts()"
   ]
  },
  {
   "cell_type": "code",
   "execution_count": null,
   "id": "39dc515e-74bf-4e8b-93c5-3ce4f3aea59b",
   "metadata": {},
   "outputs": [],
   "source": [
    "def compute_center_low_dim(df):\n",
    "    return df[['x', 'y']].mean().to_numpy()\n",
    "    \n",
    "def compute_euclidean_distances_low_dim(center, df):\n",
    "    return [distance.euclidean(center, df.iloc[i, :][['x', 'y']].to_numpy()) for i in range(df.shape[0])]\n",
    "\n",
    "def compute_relevancies_low_dim(center, max_d, df):\n",
    "    distances = compute_euclidean_distances_low_dim(center, df)\n",
    "    r_cat = [relevance_category(d, max_d) for d in distances] \n",
    "    return pd.concat([pd.DataFrame({'distance': distances, 'relevance category': r_cat}), df], axis=1)"
   ]
  },
  {
   "cell_type": "code",
   "execution_count": null,
   "id": "b2e73a40-ef64-41d0-90c7-032a6e76e875",
   "metadata": {},
   "outputs": [],
   "source": [
    "low_dim_center = compute_center_low_dim(Saeki_Fullerene_OPV)\n",
    "distances = compute_euclidean_distances_low_dim(low_dim_center, Saeki_Fullerene_OPV)\n",
    "p90_d = np.percentile(distances, 90)\n",
    "p90_d, distances"
   ]
  },
  {
   "cell_type": "code",
   "execution_count": null,
   "id": "899646fb-859b-4027-a929-5b495c9432d9",
   "metadata": {},
   "outputs": [],
   "source": [
    "compute_relevancies_low_dim(low_dim_center, p90_d, Saeki_Fullerene_OPV)['relevance category'].value_counts()"
   ]
  },
  {
   "cell_type": "code",
   "execution_count": null,
   "id": "d8cd2fda-ff74-485f-ae14-cacb5408d851",
   "metadata": {},
   "outputs": [],
   "source": [
    "compute_relevancies_low_dim(low_dim_center, p90_d, OPV)['relevance category'].value_counts()"
   ]
  },
  {
   "cell_type": "code",
   "execution_count": null,
   "id": "db8cc535-ab2a-4d4a-85f3-ea96759bc548",
   "metadata": {},
   "outputs": [],
   "source": [
    "compute_relevancies_low_dim(low_dim_center, p90_d, OPV_Stability_and_Degradation)['relevance category'].value_counts()"
   ]
  },
  {
   "cell_type": "code",
   "execution_count": null,
   "id": "7c1593c0-65e7-4855-8f3c-8d23a5752782",
   "metadata": {},
   "outputs": [],
   "source": [
    "compute_relevancies_low_dim(low_dim_center, p90_d, Lithium_Batteries)['relevance category'].value_counts()"
   ]
  },
  {
   "cell_type": "code",
   "execution_count": null,
   "id": "932132b6-6fa0-4a8e-b37b-1f72f748b68c",
   "metadata": {},
   "outputs": [],
   "source": []
  }
 ],
 "metadata": {
  "kernelspec": {
   "display_name": "Python 3 (ipykernel)",
   "language": "python",
   "name": "python3"
  },
  "language_info": {
   "codemirror_mode": {
    "name": "ipython",
    "version": 3
   },
   "file_extension": ".py",
   "mimetype": "text/x-python",
   "name": "python",
   "nbconvert_exporter": "python",
   "pygments_lexer": "ipython3",
   "version": "3.12.3"
  }
 },
 "nbformat": 4,
 "nbformat_minor": 5
}
