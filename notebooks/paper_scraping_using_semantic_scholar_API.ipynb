{
 "cells": [
  {
   "cell_type": "code",
   "execution_count": null,
   "id": "2baae81c-fb0d-4ef2-8098-33b069e30361",
   "metadata": {},
   "outputs": [],
   "source": [
    "import pandas as pd\n",
    "import time\n",
    "\n",
    "import sys\n",
    "import os\n",
    "sys.path.append(os.path.abspath('../aipowerdatasetconstruction/'))\n",
    "\n",
    "from semanticscholar_util import SemanticScholar\n",
    "\n",
    "APIKEY = '<Your semantic scholar API Key>'\n",
    "ss = SemanticScholar(apikey=APIKEY)"
   ]
  },
  {
   "cell_type": "code",
   "execution_count": null,
   "id": "600d98f5-7e9a-4515-b4ec-b49e2205b470",
   "metadata": {},
   "outputs": [],
   "source": [
    "saeki_fullerene_df = pd.read_csv('../data/Saeki_papers_doi.csv', encoding = \"ISO-8859-1\")\n",
    "papers_with_abstract = []\n",
    "for i in range(saeki_fullerene_df.shape[0]):\n",
    "    DOI = saeki_fullerene_df.loc[1, 'DOI']\n",
    "    try:\n",
    "        paper = ss.get_paper(saeki_fullerene_df.loc[i, 'DOI'])\n",
    "    except:\n",
    "        continue\n",
    "    time.sleep(1)\n",
    "    if paper['Abstract'] is not None and paper['Abstract'] != '':\n",
    "        papers_with_abstract.append(paper.copy())"
   ]
  },
  {
   "cell_type": "code",
   "execution_count": null,
   "id": "316ae3b6-197b-4b82-8210-9d2c07021e53",
   "metadata": {},
   "outputs": [],
   "source": [
    "papers_df = pd.DataFrame(papers_with_abstract)\n",
    "papers_df.to_csv('../data/fullerene_OPV_with_abstract.csv')"
   ]
  },
  {
   "cell_type": "code",
   "execution_count": null,
   "id": "5bf41f4e-2698-41b6-827e-3d67713d7cba",
   "metadata": {},
   "outputs": [],
   "source": [
    "keywords = 'OPV'\n",
    "target_numer_of_paper = 500\n",
    "paper_ids_set = set()\n",
    "papers_with_abstract = []\n",
    "offset = 0\n",
    "ss.get_papers_with_abstract(keywords, target_numer_of_paper, paper_ids_set, papers_with_abstract, offset)"
   ]
  },
  {
   "cell_type": "code",
   "execution_count": null,
   "id": "e441cf07-a972-43d4-81e5-316f6004a5f2",
   "metadata": {},
   "outputs": [],
   "source": [
    "papers_df = pd.DataFrame(papers_with_abstract)\n",
    "papers_df.to_csv(f'../data/search_results_{keywords}.csv')"
   ]
  },
  {
   "cell_type": "code",
   "execution_count": null,
   "id": "6fcab9b4-0d5b-4342-8c1a-4b5243f4e110",
   "metadata": {},
   "outputs": [],
   "source": [
    "keywords = 'OLED'\n",
    "target_numer_of_paper = 500\n",
    "paper_ids_set = set()\n",
    "papers_with_abstract = []\n",
    "offset = 0\n",
    "ss.get_papers_with_abstract(keywords, target_numer_of_paper, paper_ids_set, papers_with_abstract, offset)"
   ]
  },
  {
   "cell_type": "code",
   "execution_count": null,
   "id": "8d4c4ce0-be79-4608-b920-f165f576d018",
   "metadata": {},
   "outputs": [],
   "source": [
    "papers_df = pd.DataFrame(papers_with_abstract)\n",
    "papers_df.to_csv(f'../data/search_results_{keywords}.csv')"
   ]
  },
  {
   "cell_type": "code",
   "execution_count": null,
   "id": "dfbd397a-bae4-4074-9afa-082d40cb0734",
   "metadata": {},
   "outputs": [],
   "source": [
    "keywords = 'lithium batteries'\n",
    "target_numer_of_paper = 500\n",
    "paper_ids_set = set()\n",
    "papers_with_abstract = []\n",
    "offset = 0\n",
    "ss.get_papers_with_abstract(keywords, target_numer_of_paper, paper_ids_set, papers_with_abstract, offset)"
   ]
  },
  {
   "cell_type": "code",
   "execution_count": null,
   "id": "8833a0b9-64c3-446b-b671-9f399de6503c",
   "metadata": {},
   "outputs": [],
   "source": [
    "papers_df = pd.DataFrame(papers_with_abstract)\n",
    "papers_df.to_csv(f'../data/search_results_{keywords.replace(' ', '_')}.csv')"
   ]
  },
  {
   "cell_type": "code",
   "execution_count": null,
   "id": "a9bd939a-a65e-4370-ac49-b8d60ecb9185",
   "metadata": {},
   "outputs": [],
   "source": [
    "keywords = 'fullerene polymer synthesis'\n",
    "target_numer_of_paper = 500\n",
    "paper_ids_set = set()\n",
    "papers_with_abstract = []\n",
    "offset = 0\n",
    "ss.get_papers_with_abstract(keywords, target_numer_of_paper, paper_ids_set, papers_with_abstract, offset)"
   ]
  },
  {
   "cell_type": "code",
   "execution_count": null,
   "id": "48ed68e4-7876-4b66-8539-452437212d81",
   "metadata": {},
   "outputs": [],
   "source": [
    "papers_df = pd.DataFrame(papers_with_abstract)\n",
    "papers_df.to_csv(f'../data/search_results_{keywords.replace(' ', '_')}.csv')"
   ]
  },
  {
   "cell_type": "code",
   "execution_count": null,
   "id": "70d5f487-b960-4632-9421-1f0de06a6f16",
   "metadata": {},
   "outputs": [],
   "source": [
    "keywords = 'OPV Stability and Degradation'\n",
    "target_numer_of_paper = 500\n",
    "# paper_ids_set = set()\n",
    "# papers_with_abstract = []\n",
    "offset = 160\n",
    "ss.get_papers_with_abstract(keywords, target_numer_of_paper, paper_ids_set, papers_with_abstract, offset)"
   ]
  },
  {
   "cell_type": "code",
   "execution_count": null,
   "id": "c5592613-15a2-4dbe-9cfb-e9bba19d042f",
   "metadata": {},
   "outputs": [],
   "source": [
    "papers_df = pd.DataFrame(papers_with_abstract)\n",
    "papers_df.to_csv(f'../data/search_results_{keywords.replace(' ', '_')}.csv')"
   ]
  },
  {
   "cell_type": "code",
   "execution_count": null,
   "id": "ff7b5ef0-067a-4b83-a3f8-52580b53a1bd",
   "metadata": {},
   "outputs": [],
   "source": [
    "keywords = 'OPV Morphology Control'\n",
    "target_numer_of_paper = 500\n",
    "# paper_ids_set = set()\n",
    "# papers_with_abstract = []\n",
    "offset = 120\n",
    "ss.get_papers_with_abstract(keywords, target_numer_of_paper, paper_ids_set, papers_with_abstract, offset)"
   ]
  },
  {
   "cell_type": "code",
   "execution_count": null,
   "id": "064a570c-3af6-4973-bb9a-6656e3dfdcf7",
   "metadata": {},
   "outputs": [],
   "source": [
    "papers_df = pd.DataFrame(papers_with_abstract)\n",
    "papers_df.to_csv(f'../data/search_results_{keywords.replace(' ', '_')}.csv')"
   ]
  },
  {
   "cell_type": "code",
   "execution_count": null,
   "id": "ffd3f113-51b1-4e8f-bab7-397f97135ea6",
   "metadata": {},
   "outputs": [],
   "source": [
    "keywords = 'OPV Fullerene Donor'\n",
    "target_numer_of_paper = 500\n",
    "# paper_ids_set = set()\n",
    "# papers_with_abstract = []\n",
    "offset = 280\n",
    "ss.get_papers_with_abstract(keywords, target_numer_of_paper, paper_ids_set, papers_with_abstract, offset)"
   ]
  },
  {
   "cell_type": "code",
   "execution_count": null,
   "id": "05cbd550-4a3e-4c55-bca4-69d529c730e5",
   "metadata": {},
   "outputs": [],
   "source": [
    "papers_df = pd.DataFrame(papers_with_abstract)\n",
    "papers_df.to_csv(f'../data/search_results_{keywords.replace(' ', '_')}.csv')"
   ]
  },
  {
   "cell_type": "code",
   "execution_count": null,
   "id": "5fc2bec0-3516-48a0-aa53-757dd8d780f9",
   "metadata": {},
   "outputs": [],
   "source": [
    "import requests\n",
    "import time\n",
    "headers = {'x-api-key': f'{APIKEY}'}\n",
    "SEARCH_ENDPOINT = 'https://api.semanticscholar.org/graph/v1/paper/search'\n",
    "\n",
    "query_params = {\n",
    "    'query': 'OPV',\n",
    "    'limit': 1,\n",
    "    'offset': 0,\n",
    "}\n",
    "response = requests.get(SEARCH_ENDPOINT, params=query_params, headers=headers)"
   ]
  },
  {
   "cell_type": "code",
   "execution_count": null,
   "id": "6dcfbbb7-20ab-4558-b75d-e4858fd498f8",
   "metadata": {},
   "outputs": [],
   "source": [
    "response.json()"
   ]
  },
  {
   "cell_type": "code",
   "execution_count": null,
   "id": "3df493b6-9071-4e5d-9d4a-8a36bb9efe88",
   "metadata": {},
   "outputs": [],
   "source": []
  }
 ],
 "metadata": {
  "kernelspec": {
   "display_name": "Python 3 (ipykernel)",
   "language": "python",
   "name": "python3"
  },
  "language_info": {
   "codemirror_mode": {
    "name": "ipython",
    "version": 3
   },
   "file_extension": ".py",
   "mimetype": "text/x-python",
   "name": "python",
   "nbconvert_exporter": "python",
   "pygments_lexer": "ipython3",
   "version": "3.12.3"
  }
 },
 "nbformat": 4,
 "nbformat_minor": 5
}
